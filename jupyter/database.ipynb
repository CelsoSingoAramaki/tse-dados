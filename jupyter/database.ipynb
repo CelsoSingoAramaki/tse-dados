{
 "cells": [
  {
   "cell_type": "markdown",
   "metadata": {},
   "source": [
    "# Tabela Votos"
   ]
  },
  {
   "cell_type": "code",
   "execution_count": 59,
   "metadata": {},
   "outputs": [
    {
     "name": "stdout",
     "output_type": "stream",
     "text": [
      "DATA_GERACAO\n",
      "HORA_GERACAO\n",
      "ANO_ELEICAO\n",
      "NUM_SECAO\n",
      "NUM_ZONA\n",
      "CODIGO_MICRO\n",
      "NOME_MICRO\n",
      "CODIGO_MESO\n",
      "NOME_MESO\n",
      "UF\n",
      "NOME_UF\n",
      "CODIGO_MACRO\n",
      "NOME_MACRO\n",
      "COD_MUN_TSE\n",
      "COD_MUN_IBGE\n",
      "NOME_MUNICIPIO\n",
      "NUM_TURNO\n",
      "DESCRICAO_ELEICAO\n",
      "SIGLA_UE\n",
      "CODIGO_CARGO\n",
      "DESCRICAO_CARGO\n",
      "NUMERO_CANDIDATO\n",
      "QTDE_VOTOS\n"
     ]
    }
   ],
   "source": [
    "from web.cepesp.columns.votos import VotosMunColumnsSelector\n",
    "\n",
    "votos_col = VotosMunColumnsSelector(9)\n",
    "for col in votos_col.columns():\n",
    "    print(col)"
   ]
  },
  {
   "cell_type": "markdown",
   "metadata": {},
   "source": [
    "# TSE"
   ]
  },
  {
   "cell_type": "markdown",
   "metadata": {},
   "source": [
    "## Candidatos"
   ]
  },
  {
   "cell_type": "code",
   "execution_count": 60,
   "metadata": {},
   "outputs": [
    {
     "name": "stdout",
     "output_type": "stream",
     "text": [
      "ANO_ELEICAO\n",
      "NUM_TURNO\n",
      "NUM_ZONA\n",
      "CODIGO_MICRO\n",
      "NOME_MICRO\n",
      "CODIGO_MESO\n",
      "NOME_MESO\n",
      "UF\n",
      "NOME_UF\n",
      "CODIGO_MACRO\n",
      "NOME_MACRO\n",
      "DESCRICAO_ELEICAO\n",
      "SIGLA_UE\n",
      "DESCRICAO_UE\n",
      "CODIGO_CARGO\n",
      "DESCRICAO_CARGO\n",
      "NOME_CANDIDATO\n",
      "NUMERO_CANDIDATO\n",
      "CPF_CANDIDATO\n",
      "NOME_URNA_CANDIDATO\n",
      "COD_SITUACAO_CANDIDATURA\n",
      "DES_SITUACAO_CANDIDATURA\n",
      "NUMERO_PARTIDO\n",
      "SIGLA_PARTIDO\n",
      "NOME_PARTIDO\n",
      "CODIGO_LEGENDA\n",
      "SIGLA_LEGENDA\n",
      "COMPOSICAO_LEGENDA\n",
      "NOME_LEGENDA\n",
      "CODIGO_OCUPACAO\n",
      "DESCRICAO_OCUPACAO\n",
      "DATA_NASCIMENTO\n",
      "NUM_TITULO_ELEITORAL_CANDIDATO\n",
      "IDADE_DATA_ELEICAO\n",
      "CODIGO_SEXO\n",
      "DESCRICAO_SEXO\n",
      "COD_GRAU_INSTRUCAO\n",
      "DESCRICAO_GRAU_INSTRUCAO\n",
      "CODIGO_ESTADO_CIVIL\n",
      "DESCRICAO_ESTADO_CIVIL\n",
      "CODIGO_COR_RACA\n",
      "DESCRICAO_COR_RACA\n",
      "CODIGO_NACIONALIDADE\n",
      "DESCRICAO_NACIONALIDADE\n",
      "SIGLA_UF_NASCIMENTO\n",
      "CODIGO_MUNICIPIO_NASCIMENTO\n",
      "NOME_MUNICIPIO_NASCIMENTO\n",
      "DESPESA_MAX_CAMPANHA\n",
      "COD_SIT_TOT_TURNO\n",
      "DESC_SIT_TOT_TURNO\n",
      "NM_EMAIL\n",
      "TIPO_LEGENDA\n",
      "SIGLA_COLIGACAO\n",
      "NOME_COLIGACAO\n",
      "COMPOSICAO_COLIGACAO\n",
      "QTDE_VOTOS\n"
     ]
    }
   ],
   "source": [
    "from web.cepesp.columns.tse import TSEVotosColumnsSelector\n",
    "\n",
    "tse_cand_col = TSEVotosColumnsSelector(2, 8)\n",
    "\n",
    "for col in tse_cand_col.columns():\n",
    "    print(col)"
   ]
  },
  {
   "cell_type": "markdown",
   "metadata": {},
   "source": [
    "## Partidos"
   ]
  },
  {
   "cell_type": "code",
   "execution_count": 61,
   "metadata": {},
   "outputs": [
    {
     "name": "stdout",
     "output_type": "stream",
     "text": [
      "ANO_ELEICAO\n",
      "NUM_TURNO\n",
      "NUM_ZONA\n",
      "CODIGO_MICRO\n",
      "NOME_MICRO\n",
      "CODIGO_MESO\n",
      "NOME_MESO\n",
      "UF\n",
      "NOME_UF\n",
      "CODIGO_MACRO\n",
      "NOME_MACRO\n",
      "DESCRICAO_ELEICAO\n",
      "SIGLA_UE\n",
      "DESCRICAO_UE\n",
      "CODIGO_CARGO\n",
      "DESCRICAO_CARGO\n",
      "NUMERO_PARTIDO\n",
      "SIGLA_PARTIDO\n",
      "NOME_PARTIDO\n",
      "QTDE_VOTOS\n"
     ]
    }
   ],
   "source": [
    "tse_part_col = TSEVotosColumnsSelector(1, 8)\n",
    "\n",
    "for col in tse_part_col.columns():\n",
    "    print(col)"
   ]
  },
  {
   "cell_type": "markdown",
   "metadata": {},
   "source": [
    "## Coligações"
   ]
  },
  {
   "cell_type": "code",
   "execution_count": 62,
   "metadata": {},
   "outputs": [
    {
     "name": "stdout",
     "output_type": "stream",
     "text": [
      "ANO_ELEICAO\n",
      "NUM_TURNO\n",
      "NUM_ZONA\n",
      "CODIGO_MICRO\n",
      "NOME_MICRO\n",
      "CODIGO_MESO\n",
      "NOME_MESO\n",
      "UF\n",
      "NOME_UF\n",
      "CODIGO_MACRO\n",
      "NOME_MACRO\n",
      "DESCRICAO_ELEICAO\n",
      "SIGLA_UE\n",
      "DESCRICAO_UE\n",
      "CODIGO_CARGO\n",
      "DESCRICAO_CARGO\n",
      "SIGLA_COLIGACAO\n",
      "NOME_COLIGACAO\n",
      "COMPOSICAO_COLIGACAO\n",
      "QTDE_VOTOS\n"
     ]
    }
   ],
   "source": [
    "tse_colig_col = TSEVotosColumnsSelector(3, 8)\n",
    "\n",
    "for col in tse_colig_col.columns():\n",
    "    print(col)"
   ]
  },
  {
   "cell_type": "markdown",
   "metadata": {},
   "source": [
    "## Resultado"
   ]
  },
  {
   "cell_type": "code",
   "execution_count": 63,
   "metadata": {},
   "outputs": [
    {
     "name": "stdout",
     "output_type": "stream",
     "text": [
      "ANO_ELEICAO\n",
      "NUM_TURNO\n",
      "NUM_ZONA\n",
      "CODIGO_MICRO\n",
      "NOME_MICRO\n",
      "CODIGO_MESO\n",
      "NOME_MESO\n",
      "UF\n",
      "NOME_UF\n",
      "CODIGO_MACRO\n",
      "NOME_MACRO\n",
      "DESCRICAO_ELEICAO\n",
      "CODIGO_CARGO\n",
      "DESCRICAO_CARGO\n",
      "QTD_APTOS\n",
      "QTD_COMPARECIMENTO\n",
      "QTD_ABSTENCOES\n",
      "QT_VOTOS_NOMINAIS\n",
      "QT_VOTOS_BRANCOS\n",
      "QT_VOTOS_NULOS\n",
      "QT_VOTOS_LEGENDA\n",
      "QT_VOTOS_ANULADOS_APU_SEP\n"
     ]
    }
   ],
   "source": [
    "tse_result_col = TSEVotosColumnsSelector(4, 8)\n",
    "\n",
    "for col in tse_result_col.columns():\n",
    "    print(col)"
   ]
  },
  {
   "cell_type": "markdown",
   "metadata": {},
   "source": [
    "# Candidatos"
   ]
  },
  {
   "cell_type": "code",
   "execution_count": 64,
   "metadata": {},
   "outputs": [
    {
     "name": "stdout",
     "output_type": "stream",
     "text": [
      "DATA_GERACAO\n",
      "HORA_GERACAO\n",
      "ANO_ELEICAO\n",
      "NUM_TURNO\n",
      "DESCRICAO_ELEICAO\n",
      "SIGLA_UF\n",
      "SIGLA_UE\n",
      "DESCRICAO_UE\n",
      "CODIGO_CARGO\n",
      "DESCRICAO_CARGO\n",
      "NUMERO_PARTIDO\n",
      "SIGLA_PARTIDO\n",
      "NOME_CANDIDATO\n",
      "NUMERO_CANDIDATO\n",
      "CPF_CANDIDATO\n",
      "NOME_URNA_CANDIDATO\n",
      "COD_SITUACAO_CANDIDATURA\n",
      "DES_SITUACAO_CANDIDATURA\n",
      "NOME_PARTIDO\n",
      "CODIGO_LEGENDA\n",
      "SIGLA_LEGENDA\n",
      "COMPOSICAO_LEGENDA\n",
      "NOME_COLIGACAO\n",
      "CODIGO_OCUPACAO\n",
      "DESCRICAO_OCUPACAO\n",
      "DATA_NASCIMENTO\n",
      "NUM_TITULO_ELEITORAL_CANDIDATO\n",
      "IDADE_DATA_ELEICAO\n",
      "CODIGO_SEXO\n",
      "DESCRICAO_SEXO\n",
      "COD_GRAU_INSTRUCAO\n",
      "DESCRICAO_GRAU_INSTRUCAO\n",
      "CODIGO_ESTADO_CIVIL\n",
      "DESCRICAO_ESTADO_CIVIL\n",
      "CODIGO_COR_RACA\n",
      "DESCRICAO_COR_RACA\n",
      "CODIGO_NACIONALIDADE\n",
      "DESCRICAO_NACIONALIDADE\n",
      "SIGLA_UF_NASCIMENTO\n",
      "CODIGO_MUNICIPIO_NASCIMENTO\n",
      "NOME_MUNICIPIO_NASCIMENTO\n",
      "DESPESA_MAX_CAMPANHA\n",
      "COD_SIT_TOT_TURNO\n",
      "DESC_SIT_TOT_TURNO\n",
      "EMAIL_CANDIDATO\n"
     ]
    }
   ],
   "source": [
    "from web.cepesp.columns.candidatos import CandidatosColumnsSelector\n",
    "\n",
    "cand_col = CandidatosColumnsSelector()\n",
    "\n",
    "for col in cand_col.columns():\n",
    "    print(col)"
   ]
  },
  {
   "cell_type": "markdown",
   "metadata": {},
   "source": [
    "# Legendas"
   ]
  },
  {
   "cell_type": "code",
   "execution_count": 65,
   "metadata": {},
   "outputs": [
    {
     "name": "stdout",
     "output_type": "stream",
     "text": [
      "DATA_GERACAO\n",
      "HORA_GERACAO\n",
      "ANO_ELEICAO\n",
      "NUM_TURNO\n",
      "DESCRICAO_ELEICAO\n",
      "SIGLA_UF\n",
      "SIGLA_UE\n",
      "CODIGO_CARGO\n",
      "DESCRICAO_CARGO\n",
      "TIPO_LEGENDA\n",
      "NUMERO_PARTIDO\n",
      "SIGLA_PARTIDO\n",
      "NOME_PARTIDO\n",
      "SIGLA_COLIGACAO\n",
      "NOME_COLIGACAO\n",
      "COMPOSICAO_COLIGACAO\n",
      "SEQUENCIAL_COLIGACAO\n"
     ]
    }
   ],
   "source": [
    "from web.cepesp.columns.legendas import LegendasColumnsSelector\n",
    "\n",
    "leg_col = LegendasColumnsSelector()\n",
    "for col in leg_col.columns():\n",
    "    print(col)"
   ]
  },
  {
   "cell_type": "markdown",
   "metadata": {},
   "source": [
    "# Contagem de Dados"
   ]
  },
  {
   "cell_type": "code",
   "execution_count": 44,
   "metadata": {},
   "outputs": [
    {
     "name": "stdout",
     "output_type": "stream",
     "text": [
      "Candidatos 1998: 14932 linhas\n",
      "Candidatos 2000: 1632750 linhas\n",
      "Candidatos 2002: 19674 linhas\n",
      "Candidatos 2004: 399871 linhas\n",
      "Candidatos 2006: 20566 linhas\n",
      "Candidatos 2008: 380766 linhas\n",
      "Candidatos 2010: 22232 linhas\n",
      "Candidatos 2012: 479446 linhas\n",
      "Candidatos 2014: 25905 linhas\n",
      "Candidatos 2016: 494924 linhas\n"
     ]
    }
   ],
   "source": [
    "import pandas as pd\n",
    "\n",
    "for y in [1998, 2000, 2002, 2004, 2006, 2008, 2010, 2012, 2014, 2016]:\n",
    "    df = pd.read_csv('web/storage/candidatos/candidato_%d.csv.gz' % y, sep=';', dtype=str)\n",
    "    print('Candidatos %d: %d linhas' % (y, len(df)))\n"
   ]
  },
  {
   "cell_type": "code",
   "execution_count": 48,
   "metadata": {},
   "outputs": [
    {
     "name": "stdout",
     "output_type": "stream",
     "text": [
      "Legendas 1998: 2660 linhas\n",
      "Legendas 2000: 17734 linhas\n",
      "Legendas 2002: 4857 linhas\n",
      "Legendas 2004: 174308 linhas\n",
      "Legendas 2006: 4832 linhas\n",
      "Legendas 2008: 197022 linhas\n",
      "Legendas 2010: 6268 linhas\n",
      "Legendas 2012: 229375 linhas\n",
      "Legendas 2014: 5702 linhas\n",
      "Legendas 2016: 249475 linhas\n"
     ]
    }
   ],
   "source": [
    "import os\n",
    "\n",
    "for y in [1998, 2000, 2002, 2004, 2006, 2008, 2010, 2012, 2014, 2016]:\n",
    "    df = pd.read_csv('web/storage/legendas/%d/legendas_%d.csv.gz' % (y, y), sep=';', dtype=str)\n",
    "    if os.path.exists('web/storage/legendas/%d/legendas_%d_presidente.csv.gz' % (y, y)):\n",
    "        df = df.append(pd.read_csv('web/storage/legendas/%d/legendas_%d_presidente.csv.gz' % (y, y), sep=';', dtype=str))\n",
    "    print('Legendas %d: %d linhas' % (y, len(df)))"
   ]
  },
  {
   "cell_type": "code",
   "execution_count": 52,
   "metadata": {},
   "outputs": [
    {
     "name": "stdout",
     "output_type": "stream",
     "text": [
      "Votos 1998: 1939815 linhas\n",
      "Votos 2000: 678999 linhas\n",
      "Votos 2002: 2280743 linhas\n",
      "Votos 2004: 733900 linhas\n",
      "Votos 2006: 2567916 linhas\n",
      "Votos 2008: 761727 linhas\n",
      "Votos 2010: 2618028 linhas\n",
      "Votos 2012: 912164 linhas\n",
      "Votos 2014: 2731411 linhas\n",
      "Votos 2016: 980056 linhas\n"
     ]
    }
   ],
   "source": [
    "for y in [1998, 2000, 2002, 2004, 2006, 2008, 2010, 2012, 2014, 2016]:\n",
    "    total = 0\n",
    "    for j in [1, 3, 5, 6, 7, 11, 13]:\n",
    "        if os.path.exists('web/storage/votos/munzona/%d/%d/000000_0.gz' % (y, j)):\n",
    "            df = pd.read_csv('web/storage/votos/munzona/%d/%d/000000_0.gz' % (y, j), sep=';', dtype=str)\n",
    "            total += len(df)\n",
    "        \n",
    "    print('Votos %d: %d linhas' % (y, total))"
   ]
  },
  {
   "cell_type": "code",
   "execution_count": 66,
   "metadata": {},
   "outputs": [
    {
     "name": "stdout",
     "output_type": "stream",
     "text": [
      "TSE 1998: 1939815 linhas\n",
      "TSE 2000: 1331724 linhas\n",
      "TSE 2002: 2280743 linhas\n",
      "TSE 2004: 733929 linhas\n",
      "TSE 2006: 2485767 linhas\n",
      "TSE 2008: 761716 linhas\n",
      "TSE 2010: 2730060 linhas\n",
      "TSE 2012: 928250 linhas\n",
      "TSE 2014: 2778351 linhas\n",
      "TSE 2016: 994776 linhas\n"
     ]
    }
   ],
   "source": [
    "for y in [1998, 2000, 2002, 2004, 2006, 2008, 2010, 2012, 2014, 2016]:\n",
    "    total = 0\n",
    "    for j in [1, 3, 5, 6, 7, 11, 13]:\n",
    "        if os.path.exists('web/storage/munzona/%d/%d/000000_0.gz' % (y, j)):\n",
    "            df = pd.read_csv('web/storage/munzona/%d/%d/000000_0.gz' % (y, j), sep=';', dtype=str)\n",
    "            total += len(df)\n",
    "        \n",
    "    print('TSE %d: %d linhas' % (y, total))\n"
   ]
  },
  {
   "cell_type": "code",
   "execution_count": null,
   "metadata": {},
   "outputs": [],
   "source": []
  }
 ],
 "metadata": {
  "kernelspec": {
   "display_name": "Python 3",
   "language": "python",
   "name": "python3"
  },
  "language_info": {
   "codemirror_mode": {
    "name": "ipython",
    "version": 3
   },
   "file_extension": ".py",
   "mimetype": "text/x-python",
   "name": "python",
   "nbconvert_exporter": "python",
   "pygments_lexer": "ipython3",
   "version": "3.7.2"
  }
 },
 "nbformat": 4,
 "nbformat_minor": 1
}
