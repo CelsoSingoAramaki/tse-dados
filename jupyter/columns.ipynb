{
 "cells": [
  {
   "cell_type": "markdown",
   "metadata": {
    "pycharm": {
     "metadata": false
    }
   },
   "source": [
    "# Colunas"
   ]
  },
  {
   "cell_type": "code",
   "execution_count": 1,
   "metadata": {
    "pycharm": {
     "metadata": false,
     "name": "#%%\n"
    }
   },
   "outputs": [],
   "source": [
    "from web.cepesp.columns.filiados import PartyAffiliationsColumnsSelector\n",
    "from web.cepesp.columns.bem_candidato import CandidateAssetsColumnsSelector\n",
    "from web.cepesp.columns.candidatos import CandidatesColumnsSelector\n",
    "from web.cepesp.columns.legendas import CoalitionsColumnsSelector\n",
    "from web.cepesp.columns.tse import ElectionsColumnsSelector\n",
    "from web.cepesp.columns.votos import VotesColumnsSelector\n",
    "from web.cepesp.columns.secretarios import SecretariesColumnsSelector\n",
    "from web.cepesp.utils.data import REG, POL\n",
    "from IPython.display import Markdown, display\n",
    "\n",
    "\n",
    "def selector(table, pol=0, reg=0):\n",
    "    if table == 'tse':\n",
    "        return ElectionsColumnsSelector(pol, reg)\n",
    "    elif table == 'votos':\n",
    "        return VotesColumnsSelector(reg)\n",
    "    elif table == 'candidatos' :\n",
    "        return CandidatesColumnsSelector()\n",
    "    elif table == 'legendas':\n",
    "        return CoalitionsColumnsSelector()\n",
    "    elif table == 'bem_candidato':\n",
    "        return CandidateAssetsColumnsSelector()\n",
    "    elif table == 'filiados':\n",
    "        return PartyAffiliationsColumnsSelector()\n",
    "    elif table == 'secretarios':\n",
    "        return SecretariesColumnsSelector()\n",
    "    else:\n",
    "        raise Exception(f'Invalid table {table} supplied')\n",
    "\n",
    "def print_columns(table, pol=0, reg=0):    \n",
    "    s = selector(table, pol, reg)\n",
    "    all_c = s.columns()\n",
    "    default = s.visible_columns()\n",
    "    s = \"\"\n",
    "    for col in all_c:\n",
    "        if col in default:\n",
    "            s += f\"\\n - __***{col}***__\"\n",
    "        else:\n",
    "            s += f\"\\n - {col}\"\n",
    "    display(Markdown(s))\n",
    "    \n",
    "def title(name):\n",
    "    display(Markdown(\"#### %s\" % name))\n"
   ]
  },
  {
   "cell_type": "markdown",
   "metadata": {},
   "source": [
    "### OBS: COLUNAS MARCADAS  NEGRITO SÃO AS PADRÕES"
   ]
  },
  {
   "cell_type": "markdown",
   "metadata": {
    "pycharm": {}
   },
   "source": [
    "# Votos"
   ]
  },
  {
   "cell_type": "code",
   "execution_count": 2,
   "metadata": {
    "pycharm": {}
   },
   "outputs": [
    {
     "data": {
      "text/markdown": [
       "#### REGIONAL: BR"
      ],
      "text/plain": [
       "<IPython.core.display.Markdown object>"
      ]
     },
     "metadata": {},
     "output_type": "display_data"
    },
    {
     "data": {
      "text/markdown": [
       "\n",
       " - DATA_GERACAO\n",
       " - HORA_GERACAO\n",
       " - __***ANO_ELEICAO***__\n",
       " - __***NUM_TURNO***__\n",
       " - DESCRICAO_ELEICAO\n",
       " - CODIGO_CARGO\n",
       " - __***DESCRICAO_CARGO***__\n",
       " - __***NUMERO_CANDIDATO***__\n",
       " - __***QTDE_VOTOS***__\n",
       " - ID_CANDIDATO\n",
       " - ID_LEGENDA"
      ],
      "text/plain": [
       "<IPython.core.display.Markdown object>"
      ]
     },
     "metadata": {},
     "output_type": "display_data"
    },
    {
     "data": {
      "text/markdown": [
       "#### REGIONAL: MACRO"
      ],
      "text/plain": [
       "<IPython.core.display.Markdown object>"
      ]
     },
     "metadata": {},
     "output_type": "display_data"
    },
    {
     "data": {
      "text/markdown": [
       "\n",
       " - DATA_GERACAO\n",
       " - HORA_GERACAO\n",
       " - __***ANO_ELEICAO***__\n",
       " - CODIGO_MACRO\n",
       " - __***NOME_MACRO***__\n",
       " - __***NUM_TURNO***__\n",
       " - DESCRICAO_ELEICAO\n",
       " - CODIGO_CARGO\n",
       " - __***DESCRICAO_CARGO***__\n",
       " - __***NUMERO_CANDIDATO***__\n",
       " - __***QTDE_VOTOS***__\n",
       " - ID_CANDIDATO\n",
       " - ID_LEGENDA"
      ],
      "text/plain": [
       "<IPython.core.display.Markdown object>"
      ]
     },
     "metadata": {},
     "output_type": "display_data"
    },
    {
     "data": {
      "text/markdown": [
       "#### REGIONAL: UF"
      ],
      "text/plain": [
       "<IPython.core.display.Markdown object>"
      ]
     },
     "metadata": {},
     "output_type": "display_data"
    },
    {
     "data": {
      "text/markdown": [
       "\n",
       " - DATA_GERACAO\n",
       " - HORA_GERACAO\n",
       " - __***ANO_ELEICAO***__\n",
       " - __***UF***__\n",
       " - NOME_UF\n",
       " - CODIGO_MACRO\n",
       " - NOME_MACRO\n",
       " - SIGLA_UE\n",
       " - __***NUM_TURNO***__\n",
       " - DESCRICAO_ELEICAO\n",
       " - CODIGO_CARGO\n",
       " - __***DESCRICAO_CARGO***__\n",
       " - __***NUMERO_CANDIDATO***__\n",
       " - __***QTDE_VOTOS***__\n",
       " - ID_CANDIDATO\n",
       " - ID_LEGENDA"
      ],
      "text/plain": [
       "<IPython.core.display.Markdown object>"
      ]
     },
     "metadata": {},
     "output_type": "display_data"
    },
    {
     "data": {
      "text/markdown": [
       "#### REGIONAL: MESO"
      ],
      "text/plain": [
       "<IPython.core.display.Markdown object>"
      ]
     },
     "metadata": {},
     "output_type": "display_data"
    },
    {
     "data": {
      "text/markdown": [
       "\n",
       " - DATA_GERACAO\n",
       " - HORA_GERACAO\n",
       " - __***ANO_ELEICAO***__\n",
       " - CODIGO_MESO\n",
       " - __***NOME_MESO***__\n",
       " - __***UF***__\n",
       " - NOME_UF\n",
       " - CODIGO_MACRO\n",
       " - NOME_MACRO\n",
       " - SIGLA_UE\n",
       " - __***NUM_TURNO***__\n",
       " - DESCRICAO_ELEICAO\n",
       " - CODIGO_CARGO\n",
       " - __***DESCRICAO_CARGO***__\n",
       " - __***NUMERO_CANDIDATO***__\n",
       " - __***QTDE_VOTOS***__\n",
       " - ID_CANDIDATO\n",
       " - ID_LEGENDA"
      ],
      "text/plain": [
       "<IPython.core.display.Markdown object>"
      ]
     },
     "metadata": {},
     "output_type": "display_data"
    },
    {
     "data": {
      "text/markdown": [
       "#### REGIONAL: MICRO"
      ],
      "text/plain": [
       "<IPython.core.display.Markdown object>"
      ]
     },
     "metadata": {},
     "output_type": "display_data"
    },
    {
     "data": {
      "text/markdown": [
       "\n",
       " - DATA_GERACAO\n",
       " - HORA_GERACAO\n",
       " - __***ANO_ELEICAO***__\n",
       " - CODIGO_MICRO\n",
       " - __***NOME_MICRO***__\n",
       " - CODIGO_MESO\n",
       " - NOME_MESO\n",
       " - UF\n",
       " - NOME_UF\n",
       " - CODIGO_MACRO\n",
       " - NOME_MACRO\n",
       " - SIGLA_UE\n",
       " - __***NUM_TURNO***__\n",
       " - DESCRICAO_ELEICAO\n",
       " - CODIGO_CARGO\n",
       " - __***DESCRICAO_CARGO***__\n",
       " - __***NUMERO_CANDIDATO***__\n",
       " - __***QTDE_VOTOS***__\n",
       " - ID_CANDIDATO\n",
       " - ID_LEGENDA"
      ],
      "text/plain": [
       "<IPython.core.display.Markdown object>"
      ]
     },
     "metadata": {},
     "output_type": "display_data"
    },
    {
     "data": {
      "text/markdown": [
       "#### REGIONAL: MUNICIPIO"
      ],
      "text/plain": [
       "<IPython.core.display.Markdown object>"
      ]
     },
     "metadata": {},
     "output_type": "display_data"
    },
    {
     "data": {
      "text/markdown": [
       "\n",
       " - DATA_GERACAO\n",
       " - HORA_GERACAO\n",
       " - __***ANO_ELEICAO***__\n",
       " - __***COD_MUN_TSE***__\n",
       " - COD_MUN_IBGE\n",
       " - __***NOME_MUNICIPIO***__\n",
       " - CODIGO_MICRO\n",
       " - NOME_MICRO\n",
       " - CODIGO_MESO\n",
       " - NOME_MESO\n",
       " - __***UF***__\n",
       " - NOME_UF\n",
       " - CODIGO_MACRO\n",
       " - NOME_MACRO\n",
       " - SIGLA_UE\n",
       " - __***NUM_TURNO***__\n",
       " - DESCRICAO_ELEICAO\n",
       " - CODIGO_CARGO\n",
       " - __***DESCRICAO_CARGO***__\n",
       " - __***NUMERO_CANDIDATO***__\n",
       " - __***QTDE_VOTOS***__\n",
       " - ID_CANDIDATO\n",
       " - ID_LEGENDA"
      ],
      "text/plain": [
       "<IPython.core.display.Markdown object>"
      ]
     },
     "metadata": {},
     "output_type": "display_data"
    },
    {
     "data": {
      "text/markdown": [
       "#### REGIONAL: MUNZONA"
      ],
      "text/plain": [
       "<IPython.core.display.Markdown object>"
      ]
     },
     "metadata": {},
     "output_type": "display_data"
    },
    {
     "data": {
      "text/markdown": [
       "\n",
       " - DATA_GERACAO\n",
       " - HORA_GERACAO\n",
       " - __***ANO_ELEICAO***__\n",
       " - __***NUM_ZONA***__\n",
       " - __***COD_MUN_TSE***__\n",
       " - COD_MUN_IBGE\n",
       " - __***NOME_MUNICIPIO***__\n",
       " - CODIGO_MICRO\n",
       " - NOME_MICRO\n",
       " - CODIGO_MESO\n",
       " - NOME_MESO\n",
       " - __***UF***__\n",
       " - NOME_UF\n",
       " - CODIGO_MACRO\n",
       " - NOME_MACRO\n",
       " - SIGLA_UE\n",
       " - __***NUM_TURNO***__\n",
       " - DESCRICAO_ELEICAO\n",
       " - CODIGO_CARGO\n",
       " - __***DESCRICAO_CARGO***__\n",
       " - __***NUMERO_CANDIDATO***__\n",
       " - __***QTDE_VOTOS***__\n",
       " - ID_CANDIDATO\n",
       " - ID_LEGENDA"
      ],
      "text/plain": [
       "<IPython.core.display.Markdown object>"
      ]
     },
     "metadata": {},
     "output_type": "display_data"
    },
    {
     "data": {
      "text/markdown": [
       "#### REGIONAL: ZONA"
      ],
      "text/plain": [
       "<IPython.core.display.Markdown object>"
      ]
     },
     "metadata": {},
     "output_type": "display_data"
    },
    {
     "data": {
      "text/markdown": [
       "\n",
       " - DATA_GERACAO\n",
       " - HORA_GERACAO\n",
       " - __***ANO_ELEICAO***__\n",
       " - __***NUM_ZONA***__\n",
       " - CODIGO_MICRO\n",
       " - NOME_MICRO\n",
       " - CODIGO_MESO\n",
       " - NOME_MESO\n",
       " - __***UF***__\n",
       " - NOME_UF\n",
       " - CODIGO_MACRO\n",
       " - NOME_MACRO\n",
       " - SIGLA_UE\n",
       " - __***NUM_TURNO***__\n",
       " - DESCRICAO_ELEICAO\n",
       " - CODIGO_CARGO\n",
       " - __***DESCRICAO_CARGO***__\n",
       " - __***NUMERO_CANDIDATO***__\n",
       " - __***QTDE_VOTOS***__\n",
       " - ID_CANDIDATO\n",
       " - ID_LEGENDA"
      ],
      "text/plain": [
       "<IPython.core.display.Markdown object>"
      ]
     },
     "metadata": {},
     "output_type": "display_data"
    },
    {
     "data": {
      "text/markdown": [
       "#### REGIONAL: VOTACAO_SECAO"
      ],
      "text/plain": [
       "<IPython.core.display.Markdown object>"
      ]
     },
     "metadata": {},
     "output_type": "display_data"
    },
    {
     "data": {
      "text/markdown": [
       "\n",
       " - DATA_GERACAO\n",
       " - HORA_GERACAO\n",
       " - __***ANO_ELEICAO***__\n",
       " - NUM_SECAO\n",
       " - NUM_ZONA\n",
       " - CODIGO_MICRO\n",
       " - NOME_MICRO\n",
       " - CODIGO_MESO\n",
       " - NOME_MESO\n",
       " - UF\n",
       " - NOME_UF\n",
       " - CODIGO_MACRO\n",
       " - NOME_MACRO\n",
       " - COD_MUN_TSE\n",
       " - COD_MUN_IBGE\n",
       " - NOME_MUNICIPIO\n",
       " - __***NUM_TURNO***__\n",
       " - DESCRICAO_ELEICAO\n",
       " - SIGLA_UE\n",
       " - CODIGO_CARGO\n",
       " - __***DESCRICAO_CARGO***__\n",
       " - __***NUMERO_CANDIDATO***__\n",
       " - __***QTDE_VOTOS***__\n",
       " - ID_CANDIDATO\n",
       " - ID_LEGENDA"
      ],
      "text/plain": [
       "<IPython.core.display.Markdown object>"
      ]
     },
     "metadata": {},
     "output_type": "display_data"
    }
   ],
   "source": [
    "for r in REG:\n",
    "    title(\"REGIONAL: %s\" % REG[r])\n",
    "    print_columns(\"votos\", reg=r)\n",
    "    "
   ]
  },
  {
   "cell_type": "markdown",
   "metadata": {
    "pycharm": {}
   },
   "source": [
    "# TSE"
   ]
  },
  {
   "cell_type": "markdown",
   "metadata": {
    "pycharm": {}
   },
   "source": [
    "## Candidatos - Votos"
   ]
  },
  {
   "cell_type": "code",
   "execution_count": 3,
   "metadata": {
    "pycharm": {}
   },
   "outputs": [
    {
     "data": {
      "text/markdown": [
       "#### REGIONAL: BR"
      ],
      "text/plain": [
       "<IPython.core.display.Markdown object>"
      ]
     },
     "metadata": {},
     "output_type": "display_data"
    },
    {
     "data": {
      "text/markdown": [
       "\n",
       " - __***ANO_ELEICAO***__\n",
       " - __***NUM_TURNO***__\n",
       " - DESCRICAO_ELEICAO\n",
       " - SIGLA_UE\n",
       " - DESCRICAO_UE\n",
       " - CODIGO_CARGO\n",
       " - __***DESCRICAO_CARGO***__\n",
       " - __***NOME_CANDIDATO***__\n",
       " - SEQUENCIAL_CANDIDATO\n",
       " - __***NUMERO_CANDIDATO***__\n",
       " - __***CPF_CANDIDATO***__\n",
       " - NOME_URNA_CANDIDATO\n",
       " - COD_SITUACAO_CANDIDATURA\n",
       " - DES_SITUACAO_CANDIDATURA\n",
       " - __***NUMERO_PARTIDO***__\n",
       " - __***SIGLA_PARTIDO***__\n",
       " - NOME_PARTIDO\n",
       " - CODIGO_LEGENDA\n",
       " - SIGLA_LEGENDA\n",
       " - COMPOSICAO_LEGENDA\n",
       " - CODIGO_OCUPACAO\n",
       " - DESCRICAO_OCUPACAO\n",
       " - DATA_NASCIMENTO\n",
       " - __***NUM_TITULO_ELEITORAL_CANDIDATO***__\n",
       " - IDADE_DATA_ELEICAO\n",
       " - CODIGO_SEXO\n",
       " - DESCRICAO_SEXO\n",
       " - COD_GRAU_INSTRUCAO\n",
       " - DESCRICAO_GRAU_INSTRUCAO\n",
       " - CODIGO_ESTADO_CIVIL\n",
       " - DESCRICAO_ESTADO_CIVIL\n",
       " - CODIGO_COR_RACA\n",
       " - DESCRICAO_COR_RACA\n",
       " - CODIGO_NACIONALIDADE\n",
       " - DESCRICAO_NACIONALIDADE\n",
       " - SIGLA_UF_NASCIMENTO\n",
       " - CODIGO_MUNICIPIO_NASCIMENTO\n",
       " - NOME_MUNICIPIO_NASCIMENTO\n",
       " - DESPESA_MAX_CAMPANHA\n",
       " - COD_SIT_TOT_TURNO\n",
       " - __***DESC_SIT_TOT_TURNO***__\n",
       " - EMAIL_CANDIDATO\n",
       " - TIPO_LEGENDA\n",
       " - SIGLA_COLIGACAO\n",
       " - NOME_COLIGACAO\n",
       " - COMPOSICAO_COLIGACAO\n",
       " - __***QTDE_VOTOS***__\n",
       " - ID_CANDIDATO\n",
       " - ID_LEGENDA"
      ],
      "text/plain": [
       "<IPython.core.display.Markdown object>"
      ]
     },
     "metadata": {},
     "output_type": "display_data"
    },
    {
     "data": {
      "text/markdown": [
       "#### REGIONAL: MACRO"
      ],
      "text/plain": [
       "<IPython.core.display.Markdown object>"
      ]
     },
     "metadata": {},
     "output_type": "display_data"
    },
    {
     "data": {
      "text/markdown": [
       "\n",
       " - __***ANO_ELEICAO***__\n",
       " - __***NUM_TURNO***__\n",
       " - CODIGO_MACRO\n",
       " - __***NOME_MACRO***__\n",
       " - DESCRICAO_ELEICAO\n",
       " - SIGLA_UE\n",
       " - DESCRICAO_UE\n",
       " - CODIGO_CARGO\n",
       " - __***DESCRICAO_CARGO***__\n",
       " - __***NOME_CANDIDATO***__\n",
       " - SEQUENCIAL_CANDIDATO\n",
       " - __***NUMERO_CANDIDATO***__\n",
       " - __***CPF_CANDIDATO***__\n",
       " - NOME_URNA_CANDIDATO\n",
       " - COD_SITUACAO_CANDIDATURA\n",
       " - DES_SITUACAO_CANDIDATURA\n",
       " - __***NUMERO_PARTIDO***__\n",
       " - __***SIGLA_PARTIDO***__\n",
       " - NOME_PARTIDO\n",
       " - CODIGO_LEGENDA\n",
       " - SIGLA_LEGENDA\n",
       " - COMPOSICAO_LEGENDA\n",
       " - CODIGO_OCUPACAO\n",
       " - DESCRICAO_OCUPACAO\n",
       " - DATA_NASCIMENTO\n",
       " - __***NUM_TITULO_ELEITORAL_CANDIDATO***__\n",
       " - IDADE_DATA_ELEICAO\n",
       " - CODIGO_SEXO\n",
       " - DESCRICAO_SEXO\n",
       " - COD_GRAU_INSTRUCAO\n",
       " - DESCRICAO_GRAU_INSTRUCAO\n",
       " - CODIGO_ESTADO_CIVIL\n",
       " - DESCRICAO_ESTADO_CIVIL\n",
       " - CODIGO_COR_RACA\n",
       " - DESCRICAO_COR_RACA\n",
       " - CODIGO_NACIONALIDADE\n",
       " - DESCRICAO_NACIONALIDADE\n",
       " - SIGLA_UF_NASCIMENTO\n",
       " - CODIGO_MUNICIPIO_NASCIMENTO\n",
       " - NOME_MUNICIPIO_NASCIMENTO\n",
       " - DESPESA_MAX_CAMPANHA\n",
       " - COD_SIT_TOT_TURNO\n",
       " - __***DESC_SIT_TOT_TURNO***__\n",
       " - EMAIL_CANDIDATO\n",
       " - TIPO_LEGENDA\n",
       " - SIGLA_COLIGACAO\n",
       " - NOME_COLIGACAO\n",
       " - COMPOSICAO_COLIGACAO\n",
       " - __***QTDE_VOTOS***__\n",
       " - ID_CANDIDATO\n",
       " - ID_LEGENDA"
      ],
      "text/plain": [
       "<IPython.core.display.Markdown object>"
      ]
     },
     "metadata": {},
     "output_type": "display_data"
    },
    {
     "data": {
      "text/markdown": [
       "#### REGIONAL: UF"
      ],
      "text/plain": [
       "<IPython.core.display.Markdown object>"
      ]
     },
     "metadata": {},
     "output_type": "display_data"
    },
    {
     "data": {
      "text/markdown": [
       "\n",
       " - __***ANO_ELEICAO***__\n",
       " - __***NUM_TURNO***__\n",
       " - __***UF***__\n",
       " - NOME_UF\n",
       " - CODIGO_MACRO\n",
       " - NOME_MACRO\n",
       " - DESCRICAO_ELEICAO\n",
       " - SIGLA_UE\n",
       " - DESCRICAO_UE\n",
       " - CODIGO_CARGO\n",
       " - __***DESCRICAO_CARGO***__\n",
       " - __***NOME_CANDIDATO***__\n",
       " - SEQUENCIAL_CANDIDATO\n",
       " - __***NUMERO_CANDIDATO***__\n",
       " - __***CPF_CANDIDATO***__\n",
       " - NOME_URNA_CANDIDATO\n",
       " - COD_SITUACAO_CANDIDATURA\n",
       " - DES_SITUACAO_CANDIDATURA\n",
       " - __***NUMERO_PARTIDO***__\n",
       " - __***SIGLA_PARTIDO***__\n",
       " - NOME_PARTIDO\n",
       " - CODIGO_LEGENDA\n",
       " - SIGLA_LEGENDA\n",
       " - COMPOSICAO_LEGENDA\n",
       " - CODIGO_OCUPACAO\n",
       " - DESCRICAO_OCUPACAO\n",
       " - DATA_NASCIMENTO\n",
       " - __***NUM_TITULO_ELEITORAL_CANDIDATO***__\n",
       " - IDADE_DATA_ELEICAO\n",
       " - CODIGO_SEXO\n",
       " - DESCRICAO_SEXO\n",
       " - COD_GRAU_INSTRUCAO\n",
       " - DESCRICAO_GRAU_INSTRUCAO\n",
       " - CODIGO_ESTADO_CIVIL\n",
       " - DESCRICAO_ESTADO_CIVIL\n",
       " - CODIGO_COR_RACA\n",
       " - DESCRICAO_COR_RACA\n",
       " - CODIGO_NACIONALIDADE\n",
       " - DESCRICAO_NACIONALIDADE\n",
       " - SIGLA_UF_NASCIMENTO\n",
       " - CODIGO_MUNICIPIO_NASCIMENTO\n",
       " - NOME_MUNICIPIO_NASCIMENTO\n",
       " - DESPESA_MAX_CAMPANHA\n",
       " - COD_SIT_TOT_TURNO\n",
       " - __***DESC_SIT_TOT_TURNO***__\n",
       " - EMAIL_CANDIDATO\n",
       " - TIPO_LEGENDA\n",
       " - SIGLA_COLIGACAO\n",
       " - NOME_COLIGACAO\n",
       " - COMPOSICAO_COLIGACAO\n",
       " - __***QTDE_VOTOS***__\n",
       " - ID_CANDIDATO\n",
       " - ID_LEGENDA"
      ],
      "text/plain": [
       "<IPython.core.display.Markdown object>"
      ]
     },
     "metadata": {},
     "output_type": "display_data"
    },
    {
     "data": {
      "text/markdown": [
       "#### REGIONAL: MESO"
      ],
      "text/plain": [
       "<IPython.core.display.Markdown object>"
      ]
     },
     "metadata": {},
     "output_type": "display_data"
    },
    {
     "data": {
      "text/markdown": [
       "\n",
       " - __***ANO_ELEICAO***__\n",
       " - __***NUM_TURNO***__\n",
       " - CODIGO_MESO\n",
       " - __***NOME_MESO***__\n",
       " - CODIGO_MACRO\n",
       " - NOME_MACRO\n",
       " - __***UF***__\n",
       " - NOME_UF\n",
       " - DESCRICAO_ELEICAO\n",
       " - SIGLA_UE\n",
       " - DESCRICAO_UE\n",
       " - CODIGO_CARGO\n",
       " - __***DESCRICAO_CARGO***__\n",
       " - __***NOME_CANDIDATO***__\n",
       " - SEQUENCIAL_CANDIDATO\n",
       " - __***NUMERO_CANDIDATO***__\n",
       " - __***CPF_CANDIDATO***__\n",
       " - NOME_URNA_CANDIDATO\n",
       " - COD_SITUACAO_CANDIDATURA\n",
       " - DES_SITUACAO_CANDIDATURA\n",
       " - __***NUMERO_PARTIDO***__\n",
       " - __***SIGLA_PARTIDO***__\n",
       " - NOME_PARTIDO\n",
       " - CODIGO_LEGENDA\n",
       " - SIGLA_LEGENDA\n",
       " - COMPOSICAO_LEGENDA\n",
       " - CODIGO_OCUPACAO\n",
       " - DESCRICAO_OCUPACAO\n",
       " - DATA_NASCIMENTO\n",
       " - __***NUM_TITULO_ELEITORAL_CANDIDATO***__\n",
       " - IDADE_DATA_ELEICAO\n",
       " - CODIGO_SEXO\n",
       " - DESCRICAO_SEXO\n",
       " - COD_GRAU_INSTRUCAO\n",
       " - DESCRICAO_GRAU_INSTRUCAO\n",
       " - CODIGO_ESTADO_CIVIL\n",
       " - DESCRICAO_ESTADO_CIVIL\n",
       " - CODIGO_COR_RACA\n",
       " - DESCRICAO_COR_RACA\n",
       " - CODIGO_NACIONALIDADE\n",
       " - DESCRICAO_NACIONALIDADE\n",
       " - SIGLA_UF_NASCIMENTO\n",
       " - CODIGO_MUNICIPIO_NASCIMENTO\n",
       " - NOME_MUNICIPIO_NASCIMENTO\n",
       " - DESPESA_MAX_CAMPANHA\n",
       " - COD_SIT_TOT_TURNO\n",
       " - __***DESC_SIT_TOT_TURNO***__\n",
       " - EMAIL_CANDIDATO\n",
       " - TIPO_LEGENDA\n",
       " - SIGLA_COLIGACAO\n",
       " - NOME_COLIGACAO\n",
       " - COMPOSICAO_COLIGACAO\n",
       " - __***QTDE_VOTOS***__\n",
       " - ID_CANDIDATO\n",
       " - ID_LEGENDA"
      ],
      "text/plain": [
       "<IPython.core.display.Markdown object>"
      ]
     },
     "metadata": {},
     "output_type": "display_data"
    },
    {
     "data": {
      "text/markdown": [
       "#### REGIONAL: MICRO"
      ],
      "text/plain": [
       "<IPython.core.display.Markdown object>"
      ]
     },
     "metadata": {},
     "output_type": "display_data"
    },
    {
     "data": {
      "text/markdown": [
       "\n",
       " - __***ANO_ELEICAO***__\n",
       " - __***NUM_TURNO***__\n",
       " - CODIGO_MICRO\n",
       " - __***NOME_MICRO***__\n",
       " - CODIGO_MESO\n",
       " - NOME_MESO\n",
       " - UF\n",
       " - NOME_UF\n",
       " - CODIGO_MACRO\n",
       " - NOME_MACRO\n",
       " - DESCRICAO_ELEICAO\n",
       " - SIGLA_UE\n",
       " - DESCRICAO_UE\n",
       " - CODIGO_CARGO\n",
       " - __***DESCRICAO_CARGO***__\n",
       " - __***NOME_CANDIDATO***__\n",
       " - SEQUENCIAL_CANDIDATO\n",
       " - __***NUMERO_CANDIDATO***__\n",
       " - __***CPF_CANDIDATO***__\n",
       " - NOME_URNA_CANDIDATO\n",
       " - COD_SITUACAO_CANDIDATURA\n",
       " - DES_SITUACAO_CANDIDATURA\n",
       " - __***NUMERO_PARTIDO***__\n",
       " - __***SIGLA_PARTIDO***__\n",
       " - NOME_PARTIDO\n",
       " - CODIGO_LEGENDA\n",
       " - SIGLA_LEGENDA\n",
       " - COMPOSICAO_LEGENDA\n",
       " - CODIGO_OCUPACAO\n",
       " - DESCRICAO_OCUPACAO\n",
       " - DATA_NASCIMENTO\n",
       " - __***NUM_TITULO_ELEITORAL_CANDIDATO***__\n",
       " - IDADE_DATA_ELEICAO\n",
       " - CODIGO_SEXO\n",
       " - DESCRICAO_SEXO\n",
       " - COD_GRAU_INSTRUCAO\n",
       " - DESCRICAO_GRAU_INSTRUCAO\n",
       " - CODIGO_ESTADO_CIVIL\n",
       " - DESCRICAO_ESTADO_CIVIL\n",
       " - CODIGO_COR_RACA\n",
       " - DESCRICAO_COR_RACA\n",
       " - CODIGO_NACIONALIDADE\n",
       " - DESCRICAO_NACIONALIDADE\n",
       " - SIGLA_UF_NASCIMENTO\n",
       " - CODIGO_MUNICIPIO_NASCIMENTO\n",
       " - NOME_MUNICIPIO_NASCIMENTO\n",
       " - DESPESA_MAX_CAMPANHA\n",
       " - COD_SIT_TOT_TURNO\n",
       " - __***DESC_SIT_TOT_TURNO***__\n",
       " - EMAIL_CANDIDATO\n",
       " - TIPO_LEGENDA\n",
       " - SIGLA_COLIGACAO\n",
       " - NOME_COLIGACAO\n",
       " - COMPOSICAO_COLIGACAO\n",
       " - __***QTDE_VOTOS***__\n",
       " - ID_CANDIDATO\n",
       " - ID_LEGENDA"
      ],
      "text/plain": [
       "<IPython.core.display.Markdown object>"
      ]
     },
     "metadata": {},
     "output_type": "display_data"
    },
    {
     "data": {
      "text/markdown": [
       "#### REGIONAL: MUNICIPIO"
      ],
      "text/plain": [
       "<IPython.core.display.Markdown object>"
      ]
     },
     "metadata": {},
     "output_type": "display_data"
    },
    {
     "data": {
      "text/markdown": [
       "\n",
       " - __***ANO_ELEICAO***__\n",
       " - __***NUM_TURNO***__\n",
       " - COD_MUN_TSE\n",
       " - __***COD_MUN_IBGE***__\n",
       " - __***NOME_MUNICIPIO***__\n",
       " - CODIGO_MICRO\n",
       " - NOME_MICRO\n",
       " - CODIGO_MESO\n",
       " - NOME_MESO\n",
       " - __***UF***__\n",
       " - NOME_UF\n",
       " - CODIGO_MACRO\n",
       " - NOME_MACRO\n",
       " - DESCRICAO_ELEICAO\n",
       " - SIGLA_UE\n",
       " - DESCRICAO_UE\n",
       " - CODIGO_CARGO\n",
       " - __***DESCRICAO_CARGO***__\n",
       " - __***NOME_CANDIDATO***__\n",
       " - SEQUENCIAL_CANDIDATO\n",
       " - __***NUMERO_CANDIDATO***__\n",
       " - __***CPF_CANDIDATO***__\n",
       " - NOME_URNA_CANDIDATO\n",
       " - COD_SITUACAO_CANDIDATURA\n",
       " - DES_SITUACAO_CANDIDATURA\n",
       " - __***NUMERO_PARTIDO***__\n",
       " - __***SIGLA_PARTIDO***__\n",
       " - NOME_PARTIDO\n",
       " - CODIGO_LEGENDA\n",
       " - SIGLA_LEGENDA\n",
       " - COMPOSICAO_LEGENDA\n",
       " - CODIGO_OCUPACAO\n",
       " - DESCRICAO_OCUPACAO\n",
       " - DATA_NASCIMENTO\n",
       " - __***NUM_TITULO_ELEITORAL_CANDIDATO***__\n",
       " - IDADE_DATA_ELEICAO\n",
       " - CODIGO_SEXO\n",
       " - DESCRICAO_SEXO\n",
       " - COD_GRAU_INSTRUCAO\n",
       " - DESCRICAO_GRAU_INSTRUCAO\n",
       " - CODIGO_ESTADO_CIVIL\n",
       " - DESCRICAO_ESTADO_CIVIL\n",
       " - CODIGO_COR_RACA\n",
       " - DESCRICAO_COR_RACA\n",
       " - CODIGO_NACIONALIDADE\n",
       " - DESCRICAO_NACIONALIDADE\n",
       " - SIGLA_UF_NASCIMENTO\n",
       " - CODIGO_MUNICIPIO_NASCIMENTO\n",
       " - NOME_MUNICIPIO_NASCIMENTO\n",
       " - DESPESA_MAX_CAMPANHA\n",
       " - COD_SIT_TOT_TURNO\n",
       " - __***DESC_SIT_TOT_TURNO***__\n",
       " - EMAIL_CANDIDATO\n",
       " - TIPO_LEGENDA\n",
       " - SIGLA_COLIGACAO\n",
       " - NOME_COLIGACAO\n",
       " - COMPOSICAO_COLIGACAO\n",
       " - __***QTDE_VOTOS***__\n",
       " - ID_CANDIDATO\n",
       " - ID_LEGENDA"
      ],
      "text/plain": [
       "<IPython.core.display.Markdown object>"
      ]
     },
     "metadata": {},
     "output_type": "display_data"
    },
    {
     "data": {
      "text/markdown": [
       "#### REGIONAL: MUNZONA"
      ],
      "text/plain": [
       "<IPython.core.display.Markdown object>"
      ]
     },
     "metadata": {},
     "output_type": "display_data"
    },
    {
     "data": {
      "text/markdown": [
       "\n",
       " - __***ANO_ELEICAO***__\n",
       " - __***NUM_TURNO***__\n",
       " - COD_MUN_TSE\n",
       " - __***COD_MUN_IBGE***__\n",
       " - __***NOME_MUNICIPIO***__\n",
       " - __***NUM_ZONA***__\n",
       " - CODIGO_MICRO\n",
       " - NOME_MICRO\n",
       " - CODIGO_MESO\n",
       " - NOME_MESO\n",
       " - __***UF***__\n",
       " - NOME_UF\n",
       " - CODIGO_MACRO\n",
       " - NOME_MACRO\n",
       " - DESCRICAO_ELEICAO\n",
       " - SIGLA_UE\n",
       " - DESCRICAO_UE\n",
       " - CODIGO_CARGO\n",
       " - __***DESCRICAO_CARGO***__\n",
       " - __***NOME_CANDIDATO***__\n",
       " - SEQUENCIAL_CANDIDATO\n",
       " - __***NUMERO_CANDIDATO***__\n",
       " - __***CPF_CANDIDATO***__\n",
       " - NOME_URNA_CANDIDATO\n",
       " - COD_SITUACAO_CANDIDATURA\n",
       " - DES_SITUACAO_CANDIDATURA\n",
       " - __***NUMERO_PARTIDO***__\n",
       " - __***SIGLA_PARTIDO***__\n",
       " - NOME_PARTIDO\n",
       " - CODIGO_LEGENDA\n",
       " - SIGLA_LEGENDA\n",
       " - COMPOSICAO_LEGENDA\n",
       " - CODIGO_OCUPACAO\n",
       " - DESCRICAO_OCUPACAO\n",
       " - DATA_NASCIMENTO\n",
       " - __***NUM_TITULO_ELEITORAL_CANDIDATO***__\n",
       " - IDADE_DATA_ELEICAO\n",
       " - CODIGO_SEXO\n",
       " - DESCRICAO_SEXO\n",
       " - COD_GRAU_INSTRUCAO\n",
       " - DESCRICAO_GRAU_INSTRUCAO\n",
       " - CODIGO_ESTADO_CIVIL\n",
       " - DESCRICAO_ESTADO_CIVIL\n",
       " - CODIGO_COR_RACA\n",
       " - DESCRICAO_COR_RACA\n",
       " - CODIGO_NACIONALIDADE\n",
       " - DESCRICAO_NACIONALIDADE\n",
       " - SIGLA_UF_NASCIMENTO\n",
       " - CODIGO_MUNICIPIO_NASCIMENTO\n",
       " - NOME_MUNICIPIO_NASCIMENTO\n",
       " - DESPESA_MAX_CAMPANHA\n",
       " - COD_SIT_TOT_TURNO\n",
       " - __***DESC_SIT_TOT_TURNO***__\n",
       " - EMAIL_CANDIDATO\n",
       " - TIPO_LEGENDA\n",
       " - SIGLA_COLIGACAO\n",
       " - NOME_COLIGACAO\n",
       " - COMPOSICAO_COLIGACAO\n",
       " - __***QTDE_VOTOS***__\n",
       " - ID_CANDIDATO\n",
       " - ID_LEGENDA"
      ],
      "text/plain": [
       "<IPython.core.display.Markdown object>"
      ]
     },
     "metadata": {},
     "output_type": "display_data"
    },
    {
     "data": {
      "text/markdown": [
       "#### REGIONAL: ZONA"
      ],
      "text/plain": [
       "<IPython.core.display.Markdown object>"
      ]
     },
     "metadata": {},
     "output_type": "display_data"
    },
    {
     "data": {
      "text/markdown": [
       "\n",
       " - __***ANO_ELEICAO***__\n",
       " - __***NUM_TURNO***__\n",
       " - __***NUM_ZONA***__\n",
       " - CODIGO_MICRO\n",
       " - NOME_MICRO\n",
       " - CODIGO_MESO\n",
       " - NOME_MESO\n",
       " - __***UF***__\n",
       " - NOME_UF\n",
       " - CODIGO_MACRO\n",
       " - NOME_MACRO\n",
       " - DESCRICAO_ELEICAO\n",
       " - SIGLA_UE\n",
       " - DESCRICAO_UE\n",
       " - CODIGO_CARGO\n",
       " - __***DESCRICAO_CARGO***__\n",
       " - __***NOME_CANDIDATO***__\n",
       " - SEQUENCIAL_CANDIDATO\n",
       " - __***NUMERO_CANDIDATO***__\n",
       " - __***CPF_CANDIDATO***__\n",
       " - NOME_URNA_CANDIDATO\n",
       " - COD_SITUACAO_CANDIDATURA\n",
       " - DES_SITUACAO_CANDIDATURA\n",
       " - __***NUMERO_PARTIDO***__\n",
       " - __***SIGLA_PARTIDO***__\n",
       " - NOME_PARTIDO\n",
       " - CODIGO_LEGENDA\n",
       " - SIGLA_LEGENDA\n",
       " - COMPOSICAO_LEGENDA\n",
       " - CODIGO_OCUPACAO\n",
       " - DESCRICAO_OCUPACAO\n",
       " - DATA_NASCIMENTO\n",
       " - __***NUM_TITULO_ELEITORAL_CANDIDATO***__\n",
       " - IDADE_DATA_ELEICAO\n",
       " - CODIGO_SEXO\n",
       " - DESCRICAO_SEXO\n",
       " - COD_GRAU_INSTRUCAO\n",
       " - DESCRICAO_GRAU_INSTRUCAO\n",
       " - CODIGO_ESTADO_CIVIL\n",
       " - DESCRICAO_ESTADO_CIVIL\n",
       " - CODIGO_COR_RACA\n",
       " - DESCRICAO_COR_RACA\n",
       " - CODIGO_NACIONALIDADE\n",
       " - DESCRICAO_NACIONALIDADE\n",
       " - SIGLA_UF_NASCIMENTO\n",
       " - CODIGO_MUNICIPIO_NASCIMENTO\n",
       " - NOME_MUNICIPIO_NASCIMENTO\n",
       " - DESPESA_MAX_CAMPANHA\n",
       " - COD_SIT_TOT_TURNO\n",
       " - __***DESC_SIT_TOT_TURNO***__\n",
       " - EMAIL_CANDIDATO\n",
       " - TIPO_LEGENDA\n",
       " - SIGLA_COLIGACAO\n",
       " - NOME_COLIGACAO\n",
       " - COMPOSICAO_COLIGACAO\n",
       " - __***QTDE_VOTOS***__\n",
       " - ID_CANDIDATO\n",
       " - ID_LEGENDA"
      ],
      "text/plain": [
       "<IPython.core.display.Markdown object>"
      ]
     },
     "metadata": {},
     "output_type": "display_data"
    },
    {
     "data": {
      "text/markdown": [
       "#### REGIONAL: VOTACAO_SECAO"
      ],
      "text/plain": [
       "<IPython.core.display.Markdown object>"
      ]
     },
     "metadata": {},
     "output_type": "display_data"
    },
    {
     "data": {
      "text/markdown": [
       "\n",
       " - __***ANO_ELEICAO***__\n",
       " - __***NUM_TURNO***__\n",
       " - COD_MUN_TSE\n",
       " - COD_MUN_IBGE\n",
       " - NOME_MUNICIPIO\n",
       " - __***NUM_ZONA***__\n",
       " - __***NUM_SECAO***__\n",
       " - CODIGO_MICRO\n",
       " - NOME_MICRO\n",
       " - CODIGO_MESO\n",
       " - NOME_MESO\n",
       " - UF\n",
       " - NOME_UF\n",
       " - CODIGO_MACRO\n",
       " - NOME_MACRO\n",
       " - DESCRICAO_ELEICAO\n",
       " - SIGLA_UE\n",
       " - DESCRICAO_UE\n",
       " - CODIGO_CARGO\n",
       " - __***DESCRICAO_CARGO***__\n",
       " - __***NOME_CANDIDATO***__\n",
       " - SEQUENCIAL_CANDIDATO\n",
       " - __***NUMERO_CANDIDATO***__\n",
       " - __***CPF_CANDIDATO***__\n",
       " - NOME_URNA_CANDIDATO\n",
       " - COD_SITUACAO_CANDIDATURA\n",
       " - DES_SITUACAO_CANDIDATURA\n",
       " - __***NUMERO_PARTIDO***__\n",
       " - __***SIGLA_PARTIDO***__\n",
       " - NOME_PARTIDO\n",
       " - CODIGO_LEGENDA\n",
       " - SIGLA_LEGENDA\n",
       " - COMPOSICAO_LEGENDA\n",
       " - CODIGO_OCUPACAO\n",
       " - DESCRICAO_OCUPACAO\n",
       " - DATA_NASCIMENTO\n",
       " - __***NUM_TITULO_ELEITORAL_CANDIDATO***__\n",
       " - IDADE_DATA_ELEICAO\n",
       " - CODIGO_SEXO\n",
       " - DESCRICAO_SEXO\n",
       " - COD_GRAU_INSTRUCAO\n",
       " - DESCRICAO_GRAU_INSTRUCAO\n",
       " - CODIGO_ESTADO_CIVIL\n",
       " - DESCRICAO_ESTADO_CIVIL\n",
       " - CODIGO_COR_RACA\n",
       " - DESCRICAO_COR_RACA\n",
       " - CODIGO_NACIONALIDADE\n",
       " - DESCRICAO_NACIONALIDADE\n",
       " - SIGLA_UF_NASCIMENTO\n",
       " - CODIGO_MUNICIPIO_NASCIMENTO\n",
       " - NOME_MUNICIPIO_NASCIMENTO\n",
       " - DESPESA_MAX_CAMPANHA\n",
       " - COD_SIT_TOT_TURNO\n",
       " - __***DESC_SIT_TOT_TURNO***__\n",
       " - EMAIL_CANDIDATO\n",
       " - TIPO_LEGENDA\n",
       " - SIGLA_COLIGACAO\n",
       " - NOME_COLIGACAO\n",
       " - COMPOSICAO_COLIGACAO\n",
       " - __***QTDE_VOTOS***__\n",
       " - ID_CANDIDATO\n",
       " - ID_LEGENDA"
      ],
      "text/plain": [
       "<IPython.core.display.Markdown object>"
      ]
     },
     "metadata": {},
     "output_type": "display_data"
    }
   ],
   "source": [
    "for r in REG:\n",
    "    title(\"REGIONAL: %s\" % REG[r])\n",
    "    print_columns(\"tse\", pol=2, reg=r)"
   ]
  },
  {
   "cell_type": "markdown",
   "metadata": {
    "pycharm": {}
   },
   "source": [
    "## Partidos - Votos"
   ]
  },
  {
   "cell_type": "code",
   "execution_count": 4,
   "metadata": {
    "pycharm": {}
   },
   "outputs": [
    {
     "data": {
      "text/markdown": [
       "#### REGIONAL: BR"
      ],
      "text/plain": [
       "<IPython.core.display.Markdown object>"
      ]
     },
     "metadata": {},
     "output_type": "display_data"
    },
    {
     "data": {
      "text/markdown": [
       "\n",
       " - __***ANO_ELEICAO***__\n",
       " - __***NUM_TURNO***__\n",
       " - DESCRICAO_ELEICAO\n",
       " - SIGLA_UE\n",
       " - DESCRICAO_UE\n",
       " - CODIGO_CARGO\n",
       " - __***DESCRICAO_CARGO***__\n",
       " - __***NUMERO_PARTIDO***__\n",
       " - __***SIGLA_PARTIDO***__\n",
       " - NOME_PARTIDO\n",
       " - __***QTDE_VOTOS***__\n",
       " - ID_LEGENDA"
      ],
      "text/plain": [
       "<IPython.core.display.Markdown object>"
      ]
     },
     "metadata": {},
     "output_type": "display_data"
    },
    {
     "data": {
      "text/markdown": [
       "#### REGIONAL: MACRO"
      ],
      "text/plain": [
       "<IPython.core.display.Markdown object>"
      ]
     },
     "metadata": {},
     "output_type": "display_data"
    },
    {
     "data": {
      "text/markdown": [
       "\n",
       " - __***ANO_ELEICAO***__\n",
       " - __***NUM_TURNO***__\n",
       " - CODIGO_MACRO\n",
       " - __***NOME_MACRO***__\n",
       " - DESCRICAO_ELEICAO\n",
       " - SIGLA_UE\n",
       " - DESCRICAO_UE\n",
       " - CODIGO_CARGO\n",
       " - __***DESCRICAO_CARGO***__\n",
       " - __***NUMERO_PARTIDO***__\n",
       " - __***SIGLA_PARTIDO***__\n",
       " - NOME_PARTIDO\n",
       " - __***QTDE_VOTOS***__\n",
       " - ID_LEGENDA"
      ],
      "text/plain": [
       "<IPython.core.display.Markdown object>"
      ]
     },
     "metadata": {},
     "output_type": "display_data"
    },
    {
     "data": {
      "text/markdown": [
       "#### REGIONAL: UF"
      ],
      "text/plain": [
       "<IPython.core.display.Markdown object>"
      ]
     },
     "metadata": {},
     "output_type": "display_data"
    },
    {
     "data": {
      "text/markdown": [
       "\n",
       " - __***ANO_ELEICAO***__\n",
       " - __***NUM_TURNO***__\n",
       " - __***UF***__\n",
       " - NOME_UF\n",
       " - CODIGO_MACRO\n",
       " - NOME_MACRO\n",
       " - DESCRICAO_ELEICAO\n",
       " - SIGLA_UE\n",
       " - DESCRICAO_UE\n",
       " - CODIGO_CARGO\n",
       " - __***DESCRICAO_CARGO***__\n",
       " - __***NUMERO_PARTIDO***__\n",
       " - __***SIGLA_PARTIDO***__\n",
       " - NOME_PARTIDO\n",
       " - __***QTDE_VOTOS***__\n",
       " - ID_LEGENDA"
      ],
      "text/plain": [
       "<IPython.core.display.Markdown object>"
      ]
     },
     "metadata": {},
     "output_type": "display_data"
    },
    {
     "data": {
      "text/markdown": [
       "#### REGIONAL: MESO"
      ],
      "text/plain": [
       "<IPython.core.display.Markdown object>"
      ]
     },
     "metadata": {},
     "output_type": "display_data"
    },
    {
     "data": {
      "text/markdown": [
       "\n",
       " - __***ANO_ELEICAO***__\n",
       " - __***NUM_TURNO***__\n",
       " - CODIGO_MESO\n",
       " - __***NOME_MESO***__\n",
       " - __***UF***__\n",
       " - NOME_UF\n",
       " - CODIGO_MACRO\n",
       " - NOME_MACRO\n",
       " - DESCRICAO_ELEICAO\n",
       " - SIGLA_UE\n",
       " - DESCRICAO_UE\n",
       " - CODIGO_CARGO\n",
       " - __***DESCRICAO_CARGO***__\n",
       " - __***NUMERO_PARTIDO***__\n",
       " - __***SIGLA_PARTIDO***__\n",
       " - NOME_PARTIDO\n",
       " - __***QTDE_VOTOS***__\n",
       " - ID_LEGENDA"
      ],
      "text/plain": [
       "<IPython.core.display.Markdown object>"
      ]
     },
     "metadata": {},
     "output_type": "display_data"
    },
    {
     "data": {
      "text/markdown": [
       "#### REGIONAL: MICRO"
      ],
      "text/plain": [
       "<IPython.core.display.Markdown object>"
      ]
     },
     "metadata": {},
     "output_type": "display_data"
    },
    {
     "data": {
      "text/markdown": [
       "\n",
       " - __***ANO_ELEICAO***__\n",
       " - __***NUM_TURNO***__\n",
       " - CODIGO_MICRO\n",
       " - __***NOME_MICRO***__\n",
       " - CODIGO_MESO\n",
       " - NOME_MESO\n",
       " - UF\n",
       " - NOME_UF\n",
       " - CODIGO_MACRO\n",
       " - NOME_MACRO\n",
       " - DESCRICAO_ELEICAO\n",
       " - SIGLA_UE\n",
       " - DESCRICAO_UE\n",
       " - CODIGO_CARGO\n",
       " - __***DESCRICAO_CARGO***__\n",
       " - __***NUMERO_PARTIDO***__\n",
       " - __***SIGLA_PARTIDO***__\n",
       " - NOME_PARTIDO\n",
       " - __***QTDE_VOTOS***__\n",
       " - ID_LEGENDA"
      ],
      "text/plain": [
       "<IPython.core.display.Markdown object>"
      ]
     },
     "metadata": {},
     "output_type": "display_data"
    },
    {
     "data": {
      "text/markdown": [
       "#### REGIONAL: MUNICIPIO"
      ],
      "text/plain": [
       "<IPython.core.display.Markdown object>"
      ]
     },
     "metadata": {},
     "output_type": "display_data"
    },
    {
     "data": {
      "text/markdown": [
       "\n",
       " - __***ANO_ELEICAO***__\n",
       " - __***NUM_TURNO***__\n",
       " - NUM_ZONA\n",
       " - COD_MUN_TSE\n",
       " - __***COD_MUN_IBGE***__\n",
       " - __***NOME_MUNICIPIO***__\n",
       " - CODIGO_MICRO\n",
       " - NOME_MICRO\n",
       " - CODIGO_MESO\n",
       " - NOME_MESO\n",
       " - __***UF***__\n",
       " - NOME_UF\n",
       " - CODIGO_MACRO\n",
       " - NOME_MACRO\n",
       " - DESCRICAO_ELEICAO\n",
       " - SIGLA_UE\n",
       " - DESCRICAO_UE\n",
       " - CODIGO_CARGO\n",
       " - __***DESCRICAO_CARGO***__\n",
       " - __***NUMERO_PARTIDO***__\n",
       " - __***SIGLA_PARTIDO***__\n",
       " - NOME_PARTIDO\n",
       " - __***QTDE_VOTOS***__\n",
       " - ID_LEGENDA"
      ],
      "text/plain": [
       "<IPython.core.display.Markdown object>"
      ]
     },
     "metadata": {},
     "output_type": "display_data"
    },
    {
     "data": {
      "text/markdown": [
       "#### REGIONAL: MUNZONA"
      ],
      "text/plain": [
       "<IPython.core.display.Markdown object>"
      ]
     },
     "metadata": {},
     "output_type": "display_data"
    },
    {
     "data": {
      "text/markdown": [
       "\n",
       " - __***ANO_ELEICAO***__\n",
       " - __***NUM_TURNO***__\n",
       " - __***NUM_ZONA***__\n",
       " - COD_MUN_TSE\n",
       " - __***COD_MUN_IBGE***__\n",
       " - __***NOME_MUNICIPIO***__\n",
       " - CODIGO_MICRO\n",
       " - NOME_MICRO\n",
       " - CODIGO_MESO\n",
       " - NOME_MESO\n",
       " - __***UF***__\n",
       " - NOME_UF\n",
       " - CODIGO_MACRO\n",
       " - NOME_MACRO\n",
       " - DESCRICAO_ELEICAO\n",
       " - SIGLA_UE\n",
       " - DESCRICAO_UE\n",
       " - CODIGO_CARGO\n",
       " - __***DESCRICAO_CARGO***__\n",
       " - __***NUMERO_PARTIDO***__\n",
       " - __***SIGLA_PARTIDO***__\n",
       " - NOME_PARTIDO\n",
       " - __***QTDE_VOTOS***__\n",
       " - ID_LEGENDA"
      ],
      "text/plain": [
       "<IPython.core.display.Markdown object>"
      ]
     },
     "metadata": {},
     "output_type": "display_data"
    },
    {
     "data": {
      "text/markdown": [
       "#### REGIONAL: ZONA"
      ],
      "text/plain": [
       "<IPython.core.display.Markdown object>"
      ]
     },
     "metadata": {},
     "output_type": "display_data"
    },
    {
     "data": {
      "text/markdown": [
       "\n",
       " - __***ANO_ELEICAO***__\n",
       " - __***NUM_TURNO***__\n",
       " - __***NUM_ZONA***__\n",
       " - CODIGO_MICRO\n",
       " - NOME_MICRO\n",
       " - CODIGO_MESO\n",
       " - NOME_MESO\n",
       " - __***UF***__\n",
       " - NOME_UF\n",
       " - CODIGO_MACRO\n",
       " - NOME_MACRO\n",
       " - DESCRICAO_ELEICAO\n",
       " - SIGLA_UE\n",
       " - DESCRICAO_UE\n",
       " - CODIGO_CARGO\n",
       " - __***DESCRICAO_CARGO***__\n",
       " - __***NUMERO_PARTIDO***__\n",
       " - __***SIGLA_PARTIDO***__\n",
       " - NOME_PARTIDO\n",
       " - __***QTDE_VOTOS***__\n",
       " - ID_LEGENDA"
      ],
      "text/plain": [
       "<IPython.core.display.Markdown object>"
      ]
     },
     "metadata": {},
     "output_type": "display_data"
    },
    {
     "data": {
      "text/markdown": [
       "#### REGIONAL: VOTACAO_SECAO"
      ],
      "text/plain": [
       "<IPython.core.display.Markdown object>"
      ]
     },
     "metadata": {},
     "output_type": "display_data"
    },
    {
     "data": {
      "text/markdown": [
       "\n",
       " - __***ANO_ELEICAO***__\n",
       " - __***NUM_TURNO***__\n",
       " - __***NUM_ZONA***__\n",
       " - __***NUM_SECAO***__\n",
       " - COD_MUN_TSE\n",
       " - COD_MUN_IBGE\n",
       " - NOME_MUNICIPIO\n",
       " - CODIGO_MICRO\n",
       " - NOME_MICRO\n",
       " - CODIGO_MESO\n",
       " - NOME_MESO\n",
       " - UF\n",
       " - NOME_UF\n",
       " - CODIGO_MACRO\n",
       " - NOME_MACRO\n",
       " - DESCRICAO_ELEICAO\n",
       " - SIGLA_UE\n",
       " - DESCRICAO_UE\n",
       " - CODIGO_CARGO\n",
       " - __***DESCRICAO_CARGO***__\n",
       " - __***NUMERO_PARTIDO***__\n",
       " - __***SIGLA_PARTIDO***__\n",
       " - NOME_PARTIDO\n",
       " - __***QTDE_VOTOS***__\n",
       " - ID_LEGENDA"
      ],
      "text/plain": [
       "<IPython.core.display.Markdown object>"
      ]
     },
     "metadata": {},
     "output_type": "display_data"
    }
   ],
   "source": [
    "for r in REG:\n",
    "    title(\"REGIONAL: %s\" % REG[r])\n",
    "    print_columns(\"tse\", pol=1, reg=r)"
   ]
  },
  {
   "cell_type": "markdown",
   "metadata": {
    "pycharm": {}
   },
   "source": [
    "## Coligações - Votos"
   ]
  },
  {
   "cell_type": "code",
   "execution_count": 5,
   "metadata": {
    "pycharm": {}
   },
   "outputs": [
    {
     "data": {
      "text/markdown": [
       "#### REGIONAL: BR"
      ],
      "text/plain": [
       "<IPython.core.display.Markdown object>"
      ]
     },
     "metadata": {},
     "output_type": "display_data"
    },
    {
     "data": {
      "text/markdown": [
       "\n",
       " - __***ANO_ELEICAO***__\n",
       " - __***NUM_TURNO***__\n",
       " - DESCRICAO_ELEICAO\n",
       " - SIGLA_UE\n",
       " - DESCRICAO_UE\n",
       " - CODIGO_CARGO\n",
       " - __***DESCRICAO_CARGO***__\n",
       " - SIGLA_COLIGACAO\n",
       " - NOME_COLIGACAO\n",
       " - __***COMPOSICAO_COLIGACAO***__\n",
       " - __***QTDE_VOTOS***__\n",
       " - ID_LEGENDA"
      ],
      "text/plain": [
       "<IPython.core.display.Markdown object>"
      ]
     },
     "metadata": {},
     "output_type": "display_data"
    },
    {
     "data": {
      "text/markdown": [
       "#### REGIONAL: MACRO"
      ],
      "text/plain": [
       "<IPython.core.display.Markdown object>"
      ]
     },
     "metadata": {},
     "output_type": "display_data"
    },
    {
     "data": {
      "text/markdown": [
       "\n",
       " - __***ANO_ELEICAO***__\n",
       " - __***NUM_TURNO***__\n",
       " - CODIGO_MACRO\n",
       " - __***NOME_MACRO***__\n",
       " - DESCRICAO_ELEICAO\n",
       " - SIGLA_UE\n",
       " - DESCRICAO_UE\n",
       " - CODIGO_CARGO\n",
       " - __***DESCRICAO_CARGO***__\n",
       " - SIGLA_COLIGACAO\n",
       " - NOME_COLIGACAO\n",
       " - __***COMPOSICAO_COLIGACAO***__\n",
       " - __***QTDE_VOTOS***__\n",
       " - ID_LEGENDA"
      ],
      "text/plain": [
       "<IPython.core.display.Markdown object>"
      ]
     },
     "metadata": {},
     "output_type": "display_data"
    },
    {
     "data": {
      "text/markdown": [
       "#### REGIONAL: UF"
      ],
      "text/plain": [
       "<IPython.core.display.Markdown object>"
      ]
     },
     "metadata": {},
     "output_type": "display_data"
    },
    {
     "data": {
      "text/markdown": [
       "\n",
       " - __***ANO_ELEICAO***__\n",
       " - __***NUM_TURNO***__\n",
       " - __***UF***__\n",
       " - NOME_UF\n",
       " - CODIGO_MACRO\n",
       " - NOME_MACRO\n",
       " - DESCRICAO_ELEICAO\n",
       " - SIGLA_UE\n",
       " - DESCRICAO_UE\n",
       " - CODIGO_CARGO\n",
       " - __***DESCRICAO_CARGO***__\n",
       " - SIGLA_COLIGACAO\n",
       " - NOME_COLIGACAO\n",
       " - __***COMPOSICAO_COLIGACAO***__\n",
       " - __***QTDE_VOTOS***__\n",
       " - ID_LEGENDA"
      ],
      "text/plain": [
       "<IPython.core.display.Markdown object>"
      ]
     },
     "metadata": {},
     "output_type": "display_data"
    },
    {
     "data": {
      "text/markdown": [
       "#### REGIONAL: MESO"
      ],
      "text/plain": [
       "<IPython.core.display.Markdown object>"
      ]
     },
     "metadata": {},
     "output_type": "display_data"
    },
    {
     "data": {
      "text/markdown": [
       "\n",
       " - __***ANO_ELEICAO***__\n",
       " - __***NUM_TURNO***__\n",
       " - __***UF***__\n",
       " - NOME_UF\n",
       " - CODIGO_MESO\n",
       " - __***NOME_MESO***__\n",
       " - CODIGO_MACRO\n",
       " - NOME_MACRO\n",
       " - DESCRICAO_ELEICAO\n",
       " - SIGLA_UE\n",
       " - DESCRICAO_UE\n",
       " - CODIGO_CARGO\n",
       " - __***DESCRICAO_CARGO***__\n",
       " - SIGLA_COLIGACAO\n",
       " - NOME_COLIGACAO\n",
       " - __***COMPOSICAO_COLIGACAO***__\n",
       " - __***QTDE_VOTOS***__\n",
       " - ID_LEGENDA"
      ],
      "text/plain": [
       "<IPython.core.display.Markdown object>"
      ]
     },
     "metadata": {},
     "output_type": "display_data"
    },
    {
     "data": {
      "text/markdown": [
       "#### REGIONAL: MICRO"
      ],
      "text/plain": [
       "<IPython.core.display.Markdown object>"
      ]
     },
     "metadata": {},
     "output_type": "display_data"
    },
    {
     "data": {
      "text/markdown": [
       "\n",
       " - __***ANO_ELEICAO***__\n",
       " - __***NUM_TURNO***__\n",
       " - CODIGO_MICRO\n",
       " - __***NOME_MICRO***__\n",
       " - CODIGO_MESO\n",
       " - NOME_MESO\n",
       " - UF\n",
       " - NOME_UF\n",
       " - CODIGO_MACRO\n",
       " - NOME_MACRO\n",
       " - DESCRICAO_ELEICAO\n",
       " - SIGLA_UE\n",
       " - DESCRICAO_UE\n",
       " - CODIGO_CARGO\n",
       " - __***DESCRICAO_CARGO***__\n",
       " - SIGLA_COLIGACAO\n",
       " - NOME_COLIGACAO\n",
       " - __***COMPOSICAO_COLIGACAO***__\n",
       " - __***QTDE_VOTOS***__\n",
       " - ID_LEGENDA"
      ],
      "text/plain": [
       "<IPython.core.display.Markdown object>"
      ]
     },
     "metadata": {},
     "output_type": "display_data"
    },
    {
     "data": {
      "text/markdown": [
       "#### REGIONAL: MUNICIPIO"
      ],
      "text/plain": [
       "<IPython.core.display.Markdown object>"
      ]
     },
     "metadata": {},
     "output_type": "display_data"
    },
    {
     "data": {
      "text/markdown": [
       "\n",
       " - __***ANO_ELEICAO***__\n",
       " - __***NUM_TURNO***__\n",
       " - COD_MUN_TSE\n",
       " - __***COD_MUN_IBGE***__\n",
       " - __***NOME_MUNICIPIO***__\n",
       " - CODIGO_MICRO\n",
       " - NOME_MICRO\n",
       " - CODIGO_MESO\n",
       " - NOME_MESO\n",
       " - __***UF***__\n",
       " - NOME_UF\n",
       " - CODIGO_MACRO\n",
       " - NOME_MACRO\n",
       " - DESCRICAO_ELEICAO\n",
       " - SIGLA_UE\n",
       " - DESCRICAO_UE\n",
       " - CODIGO_CARGO\n",
       " - __***DESCRICAO_CARGO***__\n",
       " - SIGLA_COLIGACAO\n",
       " - NOME_COLIGACAO\n",
       " - __***COMPOSICAO_COLIGACAO***__\n",
       " - __***QTDE_VOTOS***__\n",
       " - ID_LEGENDA"
      ],
      "text/plain": [
       "<IPython.core.display.Markdown object>"
      ]
     },
     "metadata": {},
     "output_type": "display_data"
    },
    {
     "data": {
      "text/markdown": [
       "#### REGIONAL: MUNZONA"
      ],
      "text/plain": [
       "<IPython.core.display.Markdown object>"
      ]
     },
     "metadata": {},
     "output_type": "display_data"
    },
    {
     "data": {
      "text/markdown": [
       "\n",
       " - __***ANO_ELEICAO***__\n",
       " - __***NUM_TURNO***__\n",
       " - __***NUM_ZONA***__\n",
       " - COD_MUN_TSE\n",
       " - __***NOME_MUNICIPIO***__\n",
       " - CODIGO_MICRO\n",
       " - NOME_MICRO\n",
       " - CODIGO_MESO\n",
       " - NOME_MESO\n",
       " - __***UF***__\n",
       " - NOME_UF\n",
       " - CODIGO_MACRO\n",
       " - NOME_MACRO\n",
       " - DESCRICAO_ELEICAO\n",
       " - SIGLA_UE\n",
       " - DESCRICAO_UE\n",
       " - CODIGO_CARGO\n",
       " - __***DESCRICAO_CARGO***__\n",
       " - SIGLA_COLIGACAO\n",
       " - NOME_COLIGACAO\n",
       " - __***COMPOSICAO_COLIGACAO***__\n",
       " - __***QTDE_VOTOS***__\n",
       " - ID_LEGENDA"
      ],
      "text/plain": [
       "<IPython.core.display.Markdown object>"
      ]
     },
     "metadata": {},
     "output_type": "display_data"
    },
    {
     "data": {
      "text/markdown": [
       "#### REGIONAL: ZONA"
      ],
      "text/plain": [
       "<IPython.core.display.Markdown object>"
      ]
     },
     "metadata": {},
     "output_type": "display_data"
    },
    {
     "data": {
      "text/markdown": [
       "\n",
       " - __***ANO_ELEICAO***__\n",
       " - __***NUM_TURNO***__\n",
       " - __***NUM_ZONA***__\n",
       " - CODIGO_MICRO\n",
       " - NOME_MICRO\n",
       " - CODIGO_MESO\n",
       " - NOME_MESO\n",
       " - __***UF***__\n",
       " - NOME_UF\n",
       " - CODIGO_MACRO\n",
       " - NOME_MACRO\n",
       " - DESCRICAO_ELEICAO\n",
       " - SIGLA_UE\n",
       " - DESCRICAO_UE\n",
       " - CODIGO_CARGO\n",
       " - __***DESCRICAO_CARGO***__\n",
       " - SIGLA_COLIGACAO\n",
       " - NOME_COLIGACAO\n",
       " - __***COMPOSICAO_COLIGACAO***__\n",
       " - __***QTDE_VOTOS***__\n",
       " - ID_LEGENDA"
      ],
      "text/plain": [
       "<IPython.core.display.Markdown object>"
      ]
     },
     "metadata": {},
     "output_type": "display_data"
    },
    {
     "data": {
      "text/markdown": [
       "#### REGIONAL: VOTACAO_SECAO"
      ],
      "text/plain": [
       "<IPython.core.display.Markdown object>"
      ]
     },
     "metadata": {},
     "output_type": "display_data"
    },
    {
     "data": {
      "text/markdown": [
       "\n",
       " - __***ANO_ELEICAO***__\n",
       " - __***NUM_TURNO***__\n",
       " - __***NUM_ZONA***__\n",
       " - __***NUM_SECAO***__\n",
       " - COD_MUN_TSE\n",
       " - NOME_MUNICIPIO\n",
       " - CODIGO_MICRO\n",
       " - NOME_MICRO\n",
       " - CODIGO_MESO\n",
       " - NOME_MESO\n",
       " - UF\n",
       " - NOME_UF\n",
       " - CODIGO_MACRO\n",
       " - NOME_MACRO\n",
       " - DESCRICAO_ELEICAO\n",
       " - SIGLA_UE\n",
       " - DESCRICAO_UE\n",
       " - CODIGO_CARGO\n",
       " - __***DESCRICAO_CARGO***__\n",
       " - SIGLA_COLIGACAO\n",
       " - NOME_COLIGACAO\n",
       " - __***COMPOSICAO_COLIGACAO***__\n",
       " - __***QTDE_VOTOS***__\n",
       " - ID_LEGENDA"
      ],
      "text/plain": [
       "<IPython.core.display.Markdown object>"
      ]
     },
     "metadata": {},
     "output_type": "display_data"
    }
   ],
   "source": [
    "for r in REG:\n",
    "    title(\"REGIONAL: %s\" % REG[r])\n",
    "    print_columns(\"tse\", pol=3, reg=r)"
   ]
  },
  {
   "cell_type": "markdown",
   "metadata": {
    "pycharm": {}
   },
   "source": [
    "## Resultado da Eleição"
   ]
  },
  {
   "cell_type": "code",
   "execution_count": 6,
   "metadata": {
    "pycharm": {}
   },
   "outputs": [
    {
     "data": {
      "text/markdown": [
       "#### REGIONAL: BR"
      ],
      "text/plain": [
       "<IPython.core.display.Markdown object>"
      ]
     },
     "metadata": {},
     "output_type": "display_data"
    },
    {
     "data": {
      "text/markdown": [
       "\n",
       " - __***ANO_ELEICAO***__\n",
       " - __***NUM_TURNO***__\n",
       " - DESCRICAO_ELEICAO\n",
       " - CODIGO_CARGO\n",
       " - __***DESCRICAO_CARGO***__\n",
       " - __***QTD_APTOS***__\n",
       " - __***QTD_COMPARECIMENTO***__\n",
       " - __***QTD_ABSTENCOES***__\n",
       " - __***QT_VOTOS_NOMINAIS***__\n",
       " - QT_VOTOS_BRANCOS\n",
       " - QT_VOTOS_NULOS\n",
       " - __***QT_VOTOS_LEGENDA***__\n",
       " - QT_VOTOS_ANULADOS_APU_SEP"
      ],
      "text/plain": [
       "<IPython.core.display.Markdown object>"
      ]
     },
     "metadata": {},
     "output_type": "display_data"
    },
    {
     "data": {
      "text/markdown": [
       "#### REGIONAL: MACRO"
      ],
      "text/plain": [
       "<IPython.core.display.Markdown object>"
      ]
     },
     "metadata": {},
     "output_type": "display_data"
    },
    {
     "data": {
      "text/markdown": [
       "\n",
       " - __***ANO_ELEICAO***__\n",
       " - __***NUM_TURNO***__\n",
       " - CODIGO_MACRO\n",
       " - __***NOME_MACRO***__\n",
       " - DESCRICAO_ELEICAO\n",
       " - CODIGO_CARGO\n",
       " - __***DESCRICAO_CARGO***__\n",
       " - __***QTD_APTOS***__\n",
       " - __***QTD_COMPARECIMENTO***__\n",
       " - __***QTD_ABSTENCOES***__\n",
       " - __***QT_VOTOS_NOMINAIS***__\n",
       " - QT_VOTOS_BRANCOS\n",
       " - QT_VOTOS_NULOS\n",
       " - __***QT_VOTOS_LEGENDA***__\n",
       " - QT_VOTOS_ANULADOS_APU_SEP"
      ],
      "text/plain": [
       "<IPython.core.display.Markdown object>"
      ]
     },
     "metadata": {},
     "output_type": "display_data"
    },
    {
     "data": {
      "text/markdown": [
       "#### REGIONAL: UF"
      ],
      "text/plain": [
       "<IPython.core.display.Markdown object>"
      ]
     },
     "metadata": {},
     "output_type": "display_data"
    },
    {
     "data": {
      "text/markdown": [
       "\n",
       " - __***ANO_ELEICAO***__\n",
       " - __***NUM_TURNO***__\n",
       " - __***UF***__\n",
       " - NOME_UF\n",
       " - CODIGO_MACRO\n",
       " - NOME_MACRO\n",
       " - DESCRICAO_ELEICAO\n",
       " - CODIGO_CARGO\n",
       " - __***DESCRICAO_CARGO***__\n",
       " - __***QTD_APTOS***__\n",
       " - __***QTD_COMPARECIMENTO***__\n",
       " - __***QTD_ABSTENCOES***__\n",
       " - __***QT_VOTOS_NOMINAIS***__\n",
       " - QT_VOTOS_BRANCOS\n",
       " - QT_VOTOS_NULOS\n",
       " - __***QT_VOTOS_LEGENDA***__\n",
       " - QT_VOTOS_ANULADOS_APU_SEP"
      ],
      "text/plain": [
       "<IPython.core.display.Markdown object>"
      ]
     },
     "metadata": {},
     "output_type": "display_data"
    },
    {
     "data": {
      "text/markdown": [
       "#### REGIONAL: MESO"
      ],
      "text/plain": [
       "<IPython.core.display.Markdown object>"
      ]
     },
     "metadata": {},
     "output_type": "display_data"
    },
    {
     "data": {
      "text/markdown": [
       "\n",
       " - __***ANO_ELEICAO***__\n",
       " - __***NUM_TURNO***__\n",
       " - CODIGO_MESO\n",
       " - __***NOME_MESO***__\n",
       " - __***UF***__\n",
       " - NOME_UF\n",
       " - CODIGO_MACRO\n",
       " - NOME_MACRO\n",
       " - DESCRICAO_ELEICAO\n",
       " - CODIGO_CARGO\n",
       " - __***DESCRICAO_CARGO***__\n",
       " - __***QTD_APTOS***__\n",
       " - __***QTD_COMPARECIMENTO***__\n",
       " - __***QTD_ABSTENCOES***__\n",
       " - __***QT_VOTOS_NOMINAIS***__\n",
       " - QT_VOTOS_BRANCOS\n",
       " - QT_VOTOS_NULOS\n",
       " - __***QT_VOTOS_LEGENDA***__\n",
       " - QT_VOTOS_ANULADOS_APU_SEP"
      ],
      "text/plain": [
       "<IPython.core.display.Markdown object>"
      ]
     },
     "metadata": {},
     "output_type": "display_data"
    },
    {
     "data": {
      "text/markdown": [
       "#### REGIONAL: MICRO"
      ],
      "text/plain": [
       "<IPython.core.display.Markdown object>"
      ]
     },
     "metadata": {},
     "output_type": "display_data"
    },
    {
     "data": {
      "text/markdown": [
       "\n",
       " - __***ANO_ELEICAO***__\n",
       " - __***NUM_TURNO***__\n",
       " - CODIGO_MICRO\n",
       " - __***NOME_MICRO***__\n",
       " - CODIGO_MESO\n",
       " - NOME_MESO\n",
       " - UF\n",
       " - NOME_UF\n",
       " - CODIGO_MACRO\n",
       " - NOME_MACRO\n",
       " - DESCRICAO_ELEICAO\n",
       " - CODIGO_CARGO\n",
       " - __***DESCRICAO_CARGO***__\n",
       " - __***QTD_APTOS***__\n",
       " - __***QTD_COMPARECIMENTO***__\n",
       " - __***QTD_ABSTENCOES***__\n",
       " - __***QT_VOTOS_NOMINAIS***__\n",
       " - QT_VOTOS_BRANCOS\n",
       " - QT_VOTOS_NULOS\n",
       " - __***QT_VOTOS_LEGENDA***__\n",
       " - QT_VOTOS_ANULADOS_APU_SEP"
      ],
      "text/plain": [
       "<IPython.core.display.Markdown object>"
      ]
     },
     "metadata": {},
     "output_type": "display_data"
    },
    {
     "data": {
      "text/markdown": [
       "#### REGIONAL: MUNICIPIO"
      ],
      "text/plain": [
       "<IPython.core.display.Markdown object>"
      ]
     },
     "metadata": {},
     "output_type": "display_data"
    },
    {
     "data": {
      "text/markdown": [
       "\n",
       " - __***ANO_ELEICAO***__\n",
       " - __***NUM_TURNO***__\n",
       " - COD_MUN_TSE\n",
       " - __***COD_MUN_IBGE***__\n",
       " - __***NOME_MUNICIPIO***__\n",
       " - CODIGO_MICRO\n",
       " - NOME_MICRO\n",
       " - CODIGO_MESO\n",
       " - NOME_MESO\n",
       " - __***UF***__\n",
       " - NOME_UF\n",
       " - CODIGO_MACRO\n",
       " - NOME_MACRO\n",
       " - DESCRICAO_ELEICAO\n",
       " - CODIGO_CARGO\n",
       " - __***DESCRICAO_CARGO***__\n",
       " - __***QTD_APTOS***__\n",
       " - __***QTD_COMPARECIMENTO***__\n",
       " - __***QTD_ABSTENCOES***__\n",
       " - __***QT_VOTOS_NOMINAIS***__\n",
       " - QT_VOTOS_BRANCOS\n",
       " - QT_VOTOS_NULOS\n",
       " - __***QT_VOTOS_LEGENDA***__\n",
       " - QT_VOTOS_ANULADOS_APU_SEP"
      ],
      "text/plain": [
       "<IPython.core.display.Markdown object>"
      ]
     },
     "metadata": {},
     "output_type": "display_data"
    },
    {
     "data": {
      "text/markdown": [
       "#### REGIONAL: MUNZONA"
      ],
      "text/plain": [
       "<IPython.core.display.Markdown object>"
      ]
     },
     "metadata": {},
     "output_type": "display_data"
    },
    {
     "data": {
      "text/markdown": [
       "\n",
       " - __***ANO_ELEICAO***__\n",
       " - __***NUM_TURNO***__\n",
       " - __***NUM_ZONA***__\n",
       " - COD_MUN_TSE\n",
       " - __***COD_MUN_IBGE***__\n",
       " - __***NOME_MUNICIPIO***__\n",
       " - CODIGO_MICRO\n",
       " - NOME_MICRO\n",
       " - CODIGO_MESO\n",
       " - NOME_MESO\n",
       " - __***UF***__\n",
       " - NOME_UF\n",
       " - CODIGO_MACRO\n",
       " - NOME_MACRO\n",
       " - DESCRICAO_ELEICAO\n",
       " - CODIGO_CARGO\n",
       " - __***DESCRICAO_CARGO***__\n",
       " - __***QTD_APTOS***__\n",
       " - __***QTD_COMPARECIMENTO***__\n",
       " - __***QTD_ABSTENCOES***__\n",
       " - __***QT_VOTOS_NOMINAIS***__\n",
       " - QT_VOTOS_BRANCOS\n",
       " - QT_VOTOS_NULOS\n",
       " - __***QT_VOTOS_LEGENDA***__\n",
       " - QT_VOTOS_ANULADOS_APU_SEP"
      ],
      "text/plain": [
       "<IPython.core.display.Markdown object>"
      ]
     },
     "metadata": {},
     "output_type": "display_data"
    },
    {
     "data": {
      "text/markdown": [
       "#### REGIONAL: ZONA"
      ],
      "text/plain": [
       "<IPython.core.display.Markdown object>"
      ]
     },
     "metadata": {},
     "output_type": "display_data"
    },
    {
     "data": {
      "text/markdown": [
       "\n",
       " - __***ANO_ELEICAO***__\n",
       " - __***NUM_TURNO***__\n",
       " - __***NUM_ZONA***__\n",
       " - CODIGO_MICRO\n",
       " - NOME_MICRO\n",
       " - CODIGO_MESO\n",
       " - NOME_MESO\n",
       " - __***UF***__\n",
       " - NOME_UF\n",
       " - CODIGO_MACRO\n",
       " - NOME_MACRO\n",
       " - DESCRICAO_ELEICAO\n",
       " - CODIGO_CARGO\n",
       " - __***DESCRICAO_CARGO***__\n",
       " - __***QTD_APTOS***__\n",
       " - __***QTD_COMPARECIMENTO***__\n",
       " - __***QTD_ABSTENCOES***__\n",
       " - __***QT_VOTOS_NOMINAIS***__\n",
       " - QT_VOTOS_BRANCOS\n",
       " - QT_VOTOS_NULOS\n",
       " - __***QT_VOTOS_LEGENDA***__\n",
       " - QT_VOTOS_ANULADOS_APU_SEP"
      ],
      "text/plain": [
       "<IPython.core.display.Markdown object>"
      ]
     },
     "metadata": {},
     "output_type": "display_data"
    },
    {
     "data": {
      "text/markdown": [
       "#### REGIONAL: VOTACAO_SECAO"
      ],
      "text/plain": [
       "<IPython.core.display.Markdown object>"
      ]
     },
     "metadata": {},
     "output_type": "display_data"
    },
    {
     "data": {
      "text/markdown": [
       "\n",
       " - __***ANO_ELEICAO***__\n",
       " - __***NUM_TURNO***__\n",
       " - __***NUM_ZONA***__\n",
       " - __***NUM_SECAO***__\n",
       " - COD_MUN_TSE\n",
       " - COD_MUN_IBGE\n",
       " - NOME_MUNICIPIO\n",
       " - CODIGO_MICRO\n",
       " - NOME_MICRO\n",
       " - CODIGO_MESO\n",
       " - NOME_MESO\n",
       " - UF\n",
       " - NOME_UF\n",
       " - CODIGO_MACRO\n",
       " - NOME_MACRO\n",
       " - DESCRICAO_ELEICAO\n",
       " - CODIGO_CARGO\n",
       " - __***DESCRICAO_CARGO***__\n",
       " - __***QTD_APTOS***__\n",
       " - __***QTD_COMPARECIMENTO***__\n",
       " - __***QTD_ABSTENCOES***__\n",
       " - __***QT_VOTOS_NOMINAIS***__\n",
       " - QT_VOTOS_BRANCOS\n",
       " - QT_VOTOS_NULOS\n",
       " - __***QT_VOTOS_LEGENDA***__\n",
       " - QT_VOTOS_ANULADOS_APU_SEP"
      ],
      "text/plain": [
       "<IPython.core.display.Markdown object>"
      ]
     },
     "metadata": {},
     "output_type": "display_data"
    }
   ],
   "source": [
    "for r in REG:\n",
    "    title(\"REGIONAL: %s\" % REG[r])\n",
    "    print_columns(\"tse\", pol=4, reg=r)"
   ]
  },
  {
   "cell_type": "markdown",
   "metadata": {
    "pycharm": {}
   },
   "source": [
    "# Candidatos"
   ]
  },
  {
   "cell_type": "code",
   "execution_count": 7,
   "metadata": {
    "pycharm": {}
   },
   "outputs": [
    {
     "data": {
      "text/markdown": [
       "\n",
       " - ID_CANDIDATO\n",
       " - DATA_GERACAO\n",
       " - HORA_GERACAO\n",
       " - __***ANO_ELEICAO***__\n",
       " - __***NUM_TURNO***__\n",
       " - DESCRICAO_ELEICAO\n",
       " - SIGLA_UF\n",
       " - __***SIGLA_UE***__\n",
       " - DESCRICAO_UE\n",
       " - CODIGO_CARGO\n",
       " - __***DESCRICAO_CARGO***__\n",
       " - NUMERO_PARTIDO\n",
       " - __***SIGLA_PARTIDO***__\n",
       " - NOME_CANDIDATO\n",
       " - SEQUENCIAL_CANDIDATO\n",
       " - __***NUMERO_CANDIDATO***__\n",
       " - __***CPF_CANDIDATO***__\n",
       " - __***NOME_URNA_CANDIDATO***__\n",
       " - COD_SITUACAO_CANDIDATURA\n",
       " - DES_SITUACAO_CANDIDATURA\n",
       " - NOME_PARTIDO\n",
       " - CODIGO_LEGENDA\n",
       " - SIGLA_LEGENDA\n",
       " - COMPOSICAO_LEGENDA\n",
       " - NOME_COLIGACAO\n",
       " - CODIGO_OCUPACAO\n",
       " - DESCRICAO_OCUPACAO\n",
       " - DATA_NASCIMENTO\n",
       " - NUM_TITULO_ELEITORAL_CANDIDATO\n",
       " - IDADE_DATA_ELEICAO\n",
       " - CODIGO_SEXO\n",
       " - __***DESCRICAO_SEXO***__\n",
       " - COD_GRAU_INSTRUCAO\n",
       " - DESCRICAO_GRAU_INSTRUCAO\n",
       " - CODIGO_ESTADO_CIVIL\n",
       " - DESCRICAO_ESTADO_CIVIL\n",
       " - CODIGO_COR_RACA\n",
       " - DESCRICAO_COR_RACA\n",
       " - CODIGO_NACIONALIDADE\n",
       " - DESCRICAO_NACIONALIDADE\n",
       " - SIGLA_UF_NASCIMENTO\n",
       " - CODIGO_MUNICIPIO_NASCIMENTO\n",
       " - NOME_MUNICIPIO_NASCIMENTO\n",
       " - DESPESA_MAX_CAMPANHA\n",
       " - COD_SIT_TOT_TURNO\n",
       " - __***DESC_SIT_TOT_TURNO***__\n",
       " - EMAIL_CANDIDATO"
      ],
      "text/plain": [
       "<IPython.core.display.Markdown object>"
      ]
     },
     "metadata": {},
     "output_type": "display_data"
    }
   ],
   "source": [
    "print_columns(\"candidatos\")"
   ]
  },
  {
   "cell_type": "markdown",
   "metadata": {
    "pycharm": {}
   },
   "source": [
    "# Legendas"
   ]
  },
  {
   "cell_type": "code",
   "execution_count": 8,
   "metadata": {
    "pycharm": {}
   },
   "outputs": [
    {
     "data": {
      "text/markdown": [
       "\n",
       " - ID_LEGENDA\n",
       " - DATA_GERACAO\n",
       " - HORA_GERACAO\n",
       " - __***ANO_ELEICAO***__\n",
       " - __***NUM_TURNO***__\n",
       " - DESCRICAO_ELEICAO\n",
       " - SIGLA_UF\n",
       " - __***SIGLA_UE***__\n",
       " - CODIGO_CARGO\n",
       " - __***DESCRICAO_CARGO***__\n",
       " - __***TIPO_LEGENDA***__\n",
       " - __***NUMERO_PARTIDO***__\n",
       " - __***SIGLA_PARTIDO***__\n",
       " - NOME_PARTIDO\n",
       " - SIGLA_COLIGACAO\n",
       " - NOME_COLIGACAO\n",
       " - __***COMPOSICAO_COLIGACAO***__\n",
       " - SEQUENCIA_COLIGACAO"
      ],
      "text/plain": [
       "<IPython.core.display.Markdown object>"
      ]
     },
     "metadata": {},
     "output_type": "display_data"
    }
   ],
   "source": [
    "print_columns(\"legendas\")"
   ]
  },
  {
   "cell_type": "markdown",
   "metadata": {},
   "source": [
    "# Filiados"
   ]
  },
  {
   "cell_type": "code",
   "execution_count": 9,
   "metadata": {},
   "outputs": [
    {
     "data": {
      "text/markdown": [
       "\n",
       " - DATA_EXTRACAO\n",
       " - HORA_EXTRACAO\n",
       " - __***NUMERO_INSCRICAO***__\n",
       " - __***NOME_FILIADO***__\n",
       " - __***SIGLA_PARTIDO***__\n",
       " - __***NOME_PARTIDO***__\n",
       " - __***UF***__\n",
       " - __***COD_MUN_TSE***__\n",
       " - __***NOME_MUNICIPIO***__\n",
       " - __***NUM_ZONA***__\n",
       " - __***NUM_SECAO***__\n",
       " - DATA_FILIACAO\n",
       " - __***SITUACAO_REGISTRO***__\n",
       " - TIPO_REGISTRO\n",
       " - DATA_PROCESSAMENTO\n",
       " - DATA_DESFILIACAO\n",
       " - DATA_CANCELAMENTO\n",
       " - DATA_REGULARIZACAO\n",
       " - MOTIVO_CANCELAMENTO"
      ],
      "text/plain": [
       "<IPython.core.display.Markdown object>"
      ]
     },
     "metadata": {},
     "output_type": "display_data"
    }
   ],
   "source": [
    "print_columns(\"filiados\")"
   ]
  },
  {
   "cell_type": "markdown",
   "metadata": {},
   "source": [
    "# Secretários"
   ]
  },
  {
   "cell_type": "code",
   "execution_count": 10,
   "metadata": {},
   "outputs": [
    {
     "data": {
      "text/markdown": [
       "\n",
       " - STATUS\n",
       " - __***NOME_SECRETARIO***__\n",
       " - __***RG***__\n",
       " - SEXO\n",
       " - NOME_MUNICIPIO_NASCIMENTO\n",
       " - UF_NASCIMENTO\n",
       " - __***CARGO***__\n",
       " - __***ORGAO_OCUPADO***__\n",
       " - __***UF_ORGAO_OCUPADO***__\n",
       " - COD_GRAU_INSTRUCAO\n",
       " - DESCRICAO_GRAU_INSTRUCAO\n",
       " - CURSO_MESTRADO\n",
       " - CURSO_DOUTORADO\n",
       " - JA_ERA_FUNCIONARIO_PUBLICO\n",
       " - NIVEL_DE_GOVERNO\n",
       " - TRABALHAVA_NA_SECRETARIA_NO_MOMENTO_DA_NOMEACAO\n",
       " - ORGAO_EM_QUE_TRABALHAVA\n",
       " - ANO_INGRESSO_ORGAO\n",
       " - MES_INGRESSO_ORGAO\n",
       " - PROFISSAO_ANTES_DE_NOMEADO\n",
       " - __***UF***__\n",
       " - ID_SECRETARIO\n",
       " - __***CPF***__\n",
       " - __***TITULO_DE_ELEITOR***__\n",
       " - ORGAO_NOME\n",
       " - ID_CARGO\n",
       " - ID_ORGAO\n",
       " - __***DATA_ASSUMIU***__\n",
       " - __***DATA_DEIXOU***__\n",
       " - MOTIVO_SAIDA\n",
       " - ORIGEM_FILIACAO\n",
       " - SIGLA_PARTIDO\n",
       " - NOME_PARTIDO\n",
       " - CODIGO_MUNICIPIO\n",
       " - NOME_MUNICIPIO\n",
       " - RACA_RAIS\n",
       " - __***DATA_NASCIMENTO***__"
      ],
      "text/plain": [
       "<IPython.core.display.Markdown object>"
      ]
     },
     "metadata": {},
     "output_type": "display_data"
    }
   ],
   "source": [
    "print_columns(\"secretarios\")"
   ]
  },
  {
   "cell_type": "markdown",
   "metadata": {},
   "source": [
    "# Bens do Candidatos"
   ]
  },
  {
   "cell_type": "code",
   "execution_count": 11,
   "metadata": {},
   "outputs": [
    {
     "data": {
      "text/markdown": [
       "\n",
       " - DATA_GERACAO\n",
       " - HORA_GERACAO\n",
       " - __***ANO_ELEICAO***__\n",
       " - DESCRICAO_ELEICAO\n",
       " - __***SIGLA_UF***__\n",
       " - __***SIGLA_UE***__\n",
       " - SEQUENCIAL_CANDIDATO\n",
       " - CD_TIPO_BEM_CANDIDATO\n",
       " - __***DS_TIPO_BEM_CANDIDATO***__\n",
       " - __***DETALHE_BEM***__\n",
       " - __***VALOR_BEM***__\n",
       " - DATA_ULTIMA_ATUALIZACAO\n",
       " - HORA_ULTIMA_ATUALIZACAO\n",
       " - ID_CANDIDATO\n",
       " - CODIGO_CARGO\n",
       " - __***DESCRICAO_CARGO***__\n",
       " - __***NOME_CANDIDATO***__\n",
       " - __***NUMERO_CANDIDATO***__\n",
       " - NUMERO_PARTIDO\n",
       " - __***SIGLA_PARTIDO***__\n",
       " - __***CPF_CANDIDATO***__\n",
       " - NUM_TITULO_ELEITORAL_CANDIDATO\n",
       " - COD_SIT_TOT_TURNO\n",
       " - __***DESC_SIT_TOT_TURNO***__"
      ],
      "text/plain": [
       "<IPython.core.display.Markdown object>"
      ]
     },
     "metadata": {},
     "output_type": "display_data"
    }
   ],
   "source": [
    "print_columns(\"bem_candidato\")"
   ]
  }
 ],
 "metadata": {
  "kernelspec": {
   "display_name": "Python 3",
   "language": "python",
   "name": "python3"
  },
  "language_info": {
   "codemirror_mode": {
    "name": "ipython",
    "version": 3
   },
   "file_extension": ".py",
   "mimetype": "text/x-python",
   "name": "python",
   "nbconvert_exporter": "python",
   "pygments_lexer": "ipython3",
   "version": "3.7.2"
  },
  "stem_cell": {
   "cell_type": "raw",
   "metadata": {
    "pycharm": {
     "metadata": false
    }
   },
   "source": ""
  }
 },
 "nbformat": 4,
 "nbformat_minor": 1
}
