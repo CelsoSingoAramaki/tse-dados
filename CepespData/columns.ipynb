{
 "cells": [
  {
   "cell_type": "markdown",
   "metadata": {},
   "source": [
    "# Tabela Votos"
   ]
  },
  {
   "cell_type": "code",
   "execution_count": 59,
   "metadata": {},
   "outputs": [
    {
     "name": "stdout",
     "output_type": "stream",
     "text": [
      "DATA_GERACAO\nHORA_GERACAO\nANO_ELEICAO\nNUM_SECAO\nNUM_ZONA\nCODIGO_MICRO\nNOME_MICRO\nCODIGO_MESO\nNOME_MESO\nUF\nNOME_UF\nCODIGO_MACRO\nNOME_MACRO\nCOD_MUN_TSE\nCOD_MUN_IBGE\nNOME_MUNICIPIO\nNUM_TURNO\nDESCRICAO_ELEICAO\nSIGLA_UE\nCODIGO_CARGO\nDESCRICAO_CARGO\nNUMERO_CANDIDATO\nQTDE_VOTOS\n"
     ]
    }
   ],
   "source": [
    "from web.cepesp.columns.votos import VotosMunColumnsSelector\n",
    "\n",
    "votos_col = VotosMunColumnsSelector(9)\n",
    "for col in votos_col.columns():\n",
    "    print(col)"
   ]
  },
  {
   "cell_type": "markdown",
   "metadata": {},
   "source": [
    "# TSE"
   ]
  },
  {
   "cell_type": "markdown",
   "metadata": {},
   "source": [
    "## Candidatos"
   ]
  },
  {
   "cell_type": "code",
   "execution_count": 60,
   "metadata": {},
   "outputs": [
    {
     "name": "stdout",
     "output_type": "stream",
     "text": [
      "ANO_ELEICAO\nNUM_TURNO\nNUM_ZONA\nCODIGO_MICRO\nNOME_MICRO\nCODIGO_MESO\nNOME_MESO\nUF\nNOME_UF\nCODIGO_MACRO\nNOME_MACRO\nDESCRICAO_ELEICAO\nSIGLA_UE\nDESCRICAO_UE\nCODIGO_CARGO\nDESCRICAO_CARGO\nNOME_CANDIDATO\nNUMERO_CANDIDATO\nCPF_CANDIDATO\nNOME_URNA_CANDIDATO\nCOD_SITUACAO_CANDIDATURA\nDES_SITUACAO_CANDIDATURA\nNUMERO_PARTIDO\nSIGLA_PARTIDO\nNOME_PARTIDO\nCODIGO_LEGENDA\nSIGLA_LEGENDA\nCOMPOSICAO_LEGENDA\nNOME_LEGENDA\nCODIGO_OCUPACAO\nDESCRICAO_OCUPACAO\nDATA_NASCIMENTO\nNUM_TITULO_ELEITORAL_CANDIDATO\nIDADE_DATA_ELEICAO\nCODIGO_SEXO\nDESCRICAO_SEXO\nCOD_GRAU_INSTRUCAO\nDESCRICAO_GRAU_INSTRUCAO\nCODIGO_ESTADO_CIVIL\nDESCRICAO_ESTADO_CIVIL\nCODIGO_COR_RACA\nDESCRICAO_COR_RACA\nCODIGO_NACIONALIDADE\nDESCRICAO_NACIONALIDADE\nSIGLA_UF_NASCIMENTO\nCODIGO_MUNICIPIO_NASCIMENTO\nNOME_MUNICIPIO_NASCIMENTO\nDESPESA_MAX_CAMPANHA\nCOD_SIT_TOT_TURNO\nDESC_SIT_TOT_TURNO\nNM_EMAIL\nTIPO_LEGENDA\nSIGLA_COLIGACAO\nNOME_COLIGACAO\nCOMPOSICAO_COLIGACAO\nQTDE_VOTOS\n"
     ]
    }
   ],
   "source": [
    "from web.cepesp.columns.tse import TSEVotosColumnsSelector\n",
    "\n",
    "tse_cand_col = TSEVotosColumnsSelector(2, 8)\n",
    "\n",
    "for col in tse_cand_col.columns():\n",
    "    print(col)"
   ]
  },
  {
   "cell_type": "markdown",
   "metadata": {},
   "source": [
    "## Partidos"
   ]
  },
  {
   "cell_type": "code",
   "execution_count": 61,
   "metadata": {},
   "outputs": [
    {
     "name": "stdout",
     "output_type": "stream",
     "text": [
      "ANO_ELEICAO\nNUM_TURNO\nNUM_ZONA\nCODIGO_MICRO\nNOME_MICRO\nCODIGO_MESO\nNOME_MESO\nUF\nNOME_UF\nCODIGO_MACRO\nNOME_MACRO\nDESCRICAO_ELEICAO\nSIGLA_UE\nDESCRICAO_UE\nCODIGO_CARGO\nDESCRICAO_CARGO\nNUMERO_PARTIDO\nSIGLA_PARTIDO\nNOME_PARTIDO\nQTDE_VOTOS\n"
     ]
    }
   ],
   "source": [
    "tse_part_col = TSEVotosColumnsSelector(1, 8)\n",
    "\n",
    "for col in tse_part_col.columns():\n",
    "    print(col)"
   ]
  },
  {
   "cell_type": "markdown",
   "metadata": {},
   "source": [
    "## Coligações"
   ]
  },
  {
   "cell_type": "code",
   "execution_count": 62,
   "metadata": {},
   "outputs": [
    {
     "name": "stdout",
     "output_type": "stream",
     "text": [
      "ANO_ELEICAO\nNUM_TURNO\nNUM_ZONA\nCODIGO_MICRO\nNOME_MICRO\nCODIGO_MESO\nNOME_MESO\nUF\nNOME_UF\nCODIGO_MACRO\nNOME_MACRO\nDESCRICAO_ELEICAO\nSIGLA_UE\nDESCRICAO_UE\nCODIGO_CARGO\nDESCRICAO_CARGO\nSIGLA_COLIGACAO\nNOME_COLIGACAO\nCOMPOSICAO_COLIGACAO\nQTDE_VOTOS\n"
     ]
    }
   ],
   "source": [
    "tse_colig_col = TSEVotosColumnsSelector(3, 8)\n",
    "\n",
    "for col in tse_colig_col.columns():\n",
    "    print(col)"
   ]
  },
  {
   "cell_type": "markdown",
   "metadata": {},
   "source": [
    "## Resultado"
   ]
  },
  {
   "cell_type": "code",
   "execution_count": 63,
   "metadata": {},
   "outputs": [
    {
     "name": "stdout",
     "output_type": "stream",
     "text": [
      "ANO_ELEICAO\nNUM_TURNO\nNUM_ZONA\nCODIGO_MICRO\nNOME_MICRO\nCODIGO_MESO\nNOME_MESO\nUF\nNOME_UF\nCODIGO_MACRO\nNOME_MACRO\nDESCRICAO_ELEICAO\nCODIGO_CARGO\nDESCRICAO_CARGO\nQTD_APTOS\nQTD_COMPARECIMENTO\nQTD_ABSTENCOES\nQT_VOTOS_NOMINAIS\nQT_VOTOS_BRANCOS\nQT_VOTOS_NULOS\nQT_VOTOS_LEGENDA\nQT_VOTOS_ANULADOS_APU_SEP\n"
     ]
    }
   ],
   "source": [
    "tse_result_col = TSEVotosColumnsSelector(4, 8)\n",
    "\n",
    "for col in tse_result_col.columns():\n",
    "    print(col)"
   ]
  },
  {
   "cell_type": "markdown",
   "metadata": {},
   "source": [
    "# Candidatos"
   ]
  },
  {
   "cell_type": "code",
   "execution_count": 64,
   "metadata": {},
   "outputs": [
    {
     "name": "stdout",
     "output_type": "stream",
     "text": [
      "DATA_GERACAO\nHORA_GERACAO\nANO_ELEICAO\nNUM_TURNO\nDESCRICAO_ELEICAO\nSIGLA_UF\nSIGLA_UE\nDESCRICAO_UE\nCODIGO_CARGO\nDESCRICAO_CARGO\nNUMERO_PARTIDO\nSIGLA_PARTIDO\nNOME_CANDIDATO\nNUMERO_CANDIDATO\nCPF_CANDIDATO\nNOME_URNA_CANDIDATO\nCOD_SITUACAO_CANDIDATURA\nDES_SITUACAO_CANDIDATURA\nNOME_PARTIDO\nCODIGO_LEGENDA\nSIGLA_LEGENDA\nCOMPOSICAO_LEGENDA\nNOME_COLIGACAO\nCODIGO_OCUPACAO\nDESCRICAO_OCUPACAO\nDATA_NASCIMENTO\nNUM_TITULO_ELEITORAL_CANDIDATO\nIDADE_DATA_ELEICAO\nCODIGO_SEXO\nDESCRICAO_SEXO\nCOD_GRAU_INSTRUCAO\nDESCRICAO_GRAU_INSTRUCAO\nCODIGO_ESTADO_CIVIL\nDESCRICAO_ESTADO_CIVIL\nCODIGO_COR_RACA\nDESCRICAO_COR_RACA\nCODIGO_NACIONALIDADE\nDESCRICAO_NACIONALIDADE\nSIGLA_UF_NASCIMENTO\nCODIGO_MUNICIPIO_NASCIMENTO\nNOME_MUNICIPIO_NASCIMENTO\nDESPESA_MAX_CAMPANHA\nCOD_SIT_TOT_TURNO\nDESC_SIT_TOT_TURNO\nEMAIL_CANDIDATO\n"
     ]
    }
   ],
   "source": [
    "from web.cepesp.columns.candidatos import CandidatosColumnsSelector\n",
    "\n",
    "cand_col = CandidatosColumnsSelector()\n",
    "\n",
    "for col in cand_col.columns():\n",
    "    print(col)"
   ]
  },
  {
   "cell_type": "markdown",
   "metadata": {},
   "source": [
    "# Legendas"
   ]
  },
  {
   "cell_type": "code",
   "execution_count": 65,
   "metadata": {},
   "outputs": [
    {
     "name": "stdout",
     "output_type": "stream",
     "text": [
      "DATA_GERACAO\nHORA_GERACAO\nANO_ELEICAO\nNUM_TURNO\nDESCRICAO_ELEICAO\nSIGLA_UF\nSIGLA_UE\nCODIGO_CARGO\nDESCRICAO_CARGO\nTIPO_LEGENDA\nNUMERO_PARTIDO\nSIGLA_PARTIDO\nNOME_PARTIDO\nSIGLA_COLIGACAO\nNOME_COLIGACAO\nCOMPOSICAO_COLIGACAO\nSEQUENCIAL_COLIGACAO\n"
     ]
    }
   ],
   "source": [
    "from web.cepesp.columns.legendas import LegendasColumnsSelector\n",
    "\n",
    "leg_col = LegendasColumnsSelector()\n",
    "for col in leg_col.columns():\n",
    "    print(col)"
   ]
  },
  {
   "cell_type": "markdown",
   "metadata": {},
   "source": [
    "# Contagem de Dados"
   ]
  },
  {
   "cell_type": "code",
   "execution_count": 44,
   "metadata": {},
   "outputs": [
    {
     "name": "stdout",
     "output_type": "stream",
     "text": [
      "Candidatos 1998: 14932 linhas\n"
     ]
    },
    {
     "name": "stdout",
     "output_type": "stream",
     "text": [
      "Candidatos 2000: 1632750 linhas\n"
     ]
    },
    {
     "name": "stdout",
     "output_type": "stream",
     "text": [
      "Candidatos 2002: 19674 linhas\n"
     ]
    },
    {
     "name": "stdout",
     "output_type": "stream",
     "text": [
      "Candidatos 2004: 399871 linhas\n"
     ]
    },
    {
     "name": "stdout",
     "output_type": "stream",
     "text": [
      "Candidatos 2006: 20566 linhas\n"
     ]
    },
    {
     "name": "stdout",
     "output_type": "stream",
     "text": [
      "Candidatos 2008: 380766 linhas\n"
     ]
    },
    {
     "name": "stdout",
     "output_type": "stream",
     "text": [
      "Candidatos 2010: 22232 linhas\n"
     ]
    },
    {
     "name": "stdout",
     "output_type": "stream",
     "text": [
      "Candidatos 2012: 479446 linhas\n"
     ]
    },
    {
     "name": "stdout",
     "output_type": "stream",
     "text": [
      "Candidatos 2014: 25905 linhas\n"
     ]
    },
    {
     "name": "stdout",
     "output_type": "stream",
     "text": [
      "Candidatos 2016: 494924 linhas\n"
     ]
    }
   ],
   "source": [
    "import pandas as pd\n",
    "\n",
    "for y in [1998, 2000, 2002, 2004, 2006, 2008, 2010, 2012, 2014, 2016]:\n",
    "    df = pd.read_csv('web/storage/candidatos/candidato_%d.csv.gz' % y, sep=';', dtype=str)\n",
    "    print('Candidatos %d: %d linhas' % (y, len(df)))\n"
   ]
  },
  {
   "cell_type": "code",
   "execution_count": 48,
   "metadata": {},
   "outputs": [
    {
     "name": "stdout",
     "output_type": "stream",
     "text": [
      "Legendas 1998: 2660 linhas\n"
     ]
    },
    {
     "name": "stdout",
     "output_type": "stream",
     "text": [
      "Legendas 2000: 17734 linhas\nLegendas 2002: 4857 linhas\n"
     ]
    },
    {
     "name": "stdout",
     "output_type": "stream",
     "text": [
      "Legendas 2004: 174308 linhas\nLegendas 2006: 4832 linhas\n"
     ]
    },
    {
     "name": "stdout",
     "output_type": "stream",
     "text": [
      "Legendas 2008: 197022 linhas\nLegendas 2010: 6268 linhas\n"
     ]
    },
    {
     "name": "stdout",
     "output_type": "stream",
     "text": [
      "Legendas 2012: 229375 linhas\nLegendas 2014: 5702 linhas\n"
     ]
    },
    {
     "name": "stdout",
     "output_type": "stream",
     "text": [
      "Legendas 2016: 249475 linhas\n"
     ]
    }
   ],
   "source": [
    "import os\n",
    "\n",
    "for y in [1998, 2000, 2002, 2004, 2006, 2008, 2010, 2012, 2014, 2016]:\n",
    "    df = pd.read_csv('web/storage/legendas/%d/legendas_%d.csv.gz' % (y, y), sep=';', dtype=str)\n",
    "    if os.path.exists('web/storage/legendas/%d/legendas_%d_presidente.csv.gz' % (y, y)):\n",
    "        df = df.append(pd.read_csv('web/storage/legendas/%d/legendas_%d_presidente.csv.gz' % (y, y), sep=';', dtype=str))\n",
    "    print('Legendas %d: %d linhas' % (y, len(df)))"
   ]
  },
  {
   "cell_type": "code",
   "execution_count": 52,
   "metadata": {},
   "outputs": [
    {
     "name": "stdout",
     "output_type": "stream",
     "text": [
      "Votos 1998: 1939815 linhas\n"
     ]
    },
    {
     "name": "stdout",
     "output_type": "stream",
     "text": [
      "Votos 2000: 678999 linhas\n"
     ]
    },
    {
     "name": "stdout",
     "output_type": "stream",
     "text": [
      "Votos 2002: 2280743 linhas\n"
     ]
    },
    {
     "name": "stdout",
     "output_type": "stream",
     "text": [
      "Votos 2004: 733900 linhas\n"
     ]
    },
    {
     "name": "stdout",
     "output_type": "stream",
     "text": [
      "Votos 2006: 2567916 linhas\n"
     ]
    },
    {
     "name": "stdout",
     "output_type": "stream",
     "text": [
      "Votos 2008: 761727 linhas\n"
     ]
    },
    {
     "name": "stdout",
     "output_type": "stream",
     "text": [
      "Votos 2010: 2618028 linhas\n"
     ]
    },
    {
     "name": "stdout",
     "output_type": "stream",
     "text": [
      "Votos 2012: 912164 linhas\n"
     ]
    },
    {
     "name": "stdout",
     "output_type": "stream",
     "text": [
      "Votos 2014: 2731411 linhas\n"
     ]
    },
    {
     "name": "stdout",
     "output_type": "stream",
     "text": [
      "Votos 2016: 980056 linhas\n"
     ]
    }
   ],
   "source": [
    "for y in [1998, 2000, 2002, 2004, 2006, 2008, 2010, 2012, 2014, 2016]:\n",
    "    total = 0\n",
    "    for j in [1, 3, 5, 6, 7, 11, 13]:\n",
    "        if os.path.exists('web/storage/votos/munzona/%d/%d/000000_0.gz' % (y, j)):\n",
    "            df = pd.read_csv('web/storage/votos/munzona/%d/%d/000000_0.gz' % (y, j), sep=';', dtype=str)\n",
    "            total += len(df)\n",
    "        \n",
    "    print('Votos %d: %d linhas' % (y, total))"
   ]
  },
  {
   "cell_type": "code",
   "execution_count": 66,
   "metadata": {},
   "outputs": [
    {
     "name": "stdout",
     "output_type": "stream",
     "text": [
      "TSE 1998: 1939815 linhas\n"
     ]
    },
    {
     "name": "stdout",
     "output_type": "stream",
     "text": [
      "TSE 2000: 1331724 linhas\n"
     ]
    },
    {
     "name": "stdout",
     "output_type": "stream",
     "text": [
      "TSE 2002: 2280743 linhas\n"
     ]
    },
    {
     "name": "stdout",
     "output_type": "stream",
     "text": [
      "TSE 2004: 733929 linhas\n"
     ]
    },
    {
     "name": "stdout",
     "output_type": "stream",
     "text": [
      "TSE 2006: 2485767 linhas\n"
     ]
    },
    {
     "name": "stdout",
     "output_type": "stream",
     "text": [
      "TSE 2008: 761716 linhas\n"
     ]
    },
    {
     "name": "stdout",
     "output_type": "stream",
     "text": [
      "TSE 2010: 2730060 linhas\n"
     ]
    },
    {
     "name": "stdout",
     "output_type": "stream",
     "text": [
      "TSE 2012: 928250 linhas\n"
     ]
    },
    {
     "name": "stdout",
     "output_type": "stream",
     "text": [
      "TSE 2014: 2778351 linhas\n"
     ]
    },
    {
     "name": "stdout",
     "output_type": "stream",
     "text": [
      "TSE 2016: 994776 linhas\n"
     ]
    }
   ],
   "source": [
    "for y in [1998, 2000, 2002, 2004, 2006, 2008, 2010, 2012, 2014, 2016]:\n",
    "    total = 0\n",
    "    for j in [1, 3, 5, 6, 7, 11, 13]:\n",
    "        if os.path.exists('web/storage/munzona/%d/%d/000000_0.gz' % (y, j)):\n",
    "            df = pd.read_csv('web/storage/munzona/%d/%d/000000_0.gz' % (y, j), sep=';', dtype=str)\n",
    "            total += len(df)\n",
    "        \n",
    "    print('TSE %d: %d linhas' % (y, total))\n"
   ]
  },
  {
   "cell_type": "code",
   "execution_count": null,
   "metadata": {},
   "outputs": [],
   "source": []
  }
 ],
 "metadata": {
  "kernelspec": {
   "display_name": "Python 2",
   "language": "python",
   "name": "python2"
  },
  "language_info": {
   "codemirror_mode": {
    "name": "ipython",
    "version": 2
   },
   "file_extension": ".py",
   "mimetype": "text/x-python",
   "name": "python",
   "nbconvert_exporter": "python",
   "pygments_lexer": "ipython2",
   "version": "2.7.6"
  }
 },
 "nbformat": 4,
 "nbformat_minor": 0
}
