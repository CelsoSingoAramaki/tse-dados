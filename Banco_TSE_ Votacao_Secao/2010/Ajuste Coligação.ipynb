{
 "cells": [
  {
   "cell_type": "code",
   "execution_count": 1,
   "metadata": {
    "collapsed": false
   },
   "outputs": [],
   "source": [
    "import pandas as pd\n",
    "names = [\"DATA_GERACAO\",\n",
    "    \"HORA_GERACAO\",\n",
    "    \"ANO_ELEICAO\",\n",
    "    \"NUM_TURNO\",\n",
    "    \"DESCRICAO_ELEICAO\",\n",
    "    \"SIGLA_UF\",\n",
    "    \"SIGLA_UE\",\n",
    "    \"NOME_UE\",\n",
    "    \"CODIGO_CARGO\",\n",
    "    \"DESCRICAO_CARGO\",\n",
    "    \"TIPO_LEGENDA\",\n",
    "    \"NUM_PARTIDO\",\n",
    "    \"SIGLA_PARTIDO\",\n",
    "    \"NOME_PARTIDO\",\n",
    "    \"SIGLA_COLIGACAO\",\n",
    "    \"NOME_COLIGACAO\",\n",
    "    \"COMPOSICAO_COLIGACAO\",\n",
    "    \"SEQUENCIA_COLIGACAO\"]\n",
    "\n",
    "\n",
    "### Lendo o CSV\n",
    "data = pd.read_csv(\"input/legendas_2010.csv\", sep=\";\", names=names)\n",
    "\n",
    "\n"
   ]
  },
  {
   "cell_type": "code",
   "execution_count": 2,
   "metadata": {
    "collapsed": false
   },
   "outputs": [],
   "source": [
    "\n",
    "### Agrupando por partido e sequencia coligacao\n",
    "data_g =data.groupby([\"SEQUENCIA_COLIGACAO\",\"SIGLA_PARTIDO\"], as_index=False).count()\n",
    "data_partido = data_g[[\"SEQUENCIA_COLIGACAO\",\"SIGLA_PARTIDO\"]]\n",
    "\n",
    "### Retirando os partidos sem coligação\n",
    "data_partido = data_partido[data_partido[\"SEQUENCIA_COLIGACAO\"]!=-1]\n",
    "\n",
    "### Agrupando os partidos com a mesma sequencia coligacao\n",
    "data_partido_g = data_partido.groupby(\"SEQUENCIA_COLIGACAO\")[\"SIGLA_PARTIDO\"].apply(lambda x: \"%s\" % ' / '.join(x))\n",
    "data_partido_g.name = \"COMPOSICAO_COLIGACAO2\"\n"
   ]
  },
  {
   "cell_type": "code",
   "execution_count": 4,
   "metadata": {
    "collapsed": false
   },
   "outputs": [],
   "source": [
    "\n",
    "\n",
    "### Substitiundo os partidos agrupados na tabela original\n",
    "\n",
    "composicao = data.set_index(\"SEQUENCIA_COLIGACAO\").join(data_partido_g).fillna(\"#NE#\")\n",
    "\n"
   ]
  },
  {
   "cell_type": "code",
   "execution_count": 5,
   "metadata": {
    "collapsed": false
   },
   "outputs": [],
   "source": [
    "### Exportando o csv\n",
    "\n",
    "composicao[\"COMPOSICAO_COLIGACAO\"] = composicao[\"COMPOSICAO_COLIGACAO2\"]\n",
    "composicao = composicao.drop([\"COMPOSICAO_COLIGACAO2\"],1)\n"
   ]
  },
  {
   "cell_type": "code",
   "execution_count": 6,
   "metadata": {
    "collapsed": true
   },
   "outputs": [],
   "source": [
    "composicao.to_csv(\"output/legendas_2006.csv\",header=True, index=False)"
   ]
  },
  {
   "cell_type": "code",
   "execution_count": null,
   "metadata": {
    "collapsed": true
   },
   "outputs": [],
   "source": []
  }
 ],
 "metadata": {
  "kernelspec": {
   "display_name": "Python 2",
   "language": "python",
   "name": "python2"
  },
  "language_info": {
   "codemirror_mode": {
    "name": "ipython",
    "version": 2
   },
   "file_extension": ".py",
   "mimetype": "text/x-python",
   "name": "python",
   "nbconvert_exporter": "python",
   "pygments_lexer": "ipython2",
   "version": "2.7.13"
  }
 },
 "nbformat": 4,
 "nbformat_minor": 2
}
