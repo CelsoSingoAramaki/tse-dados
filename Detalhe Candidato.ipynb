{
 "cells": [
  {
   "cell_type": "markdown",
   "metadata": {},
   "source": [
    "# Tabela Detalhe Candidato\n",
    "\n",
    "### Quantidade de candidatos por ano\n",
    "\n",
    "``` mysql\n",
    "    select ANO_ELEICAO, count(*) from detalhe_candidato_1998_2012 group by ANO_ELEICAO union all\n",
    "    select ANO_ELEICAO, count(*) from detalhe_candidato_2014_2016 group by ANO_ELEICAO;\n",
    "```\n",
    "\n",
    "* 1998 - 15178\n",
    "* 2000 - 1632750\n",
    "* 2002 - 19901\n",
    "* 2004 - 401789\n",
    "* 2006 - 20790\n",
    "* 2008 - 384532\n",
    "* 2010 - 22577\n",
    "* 2012 - 483825\n",
    "* 2014 - 29887\n",
    "* 2016 - 497124\n",
    "\n",
    "\n",
    "\n"
   ]
  },
  {
   "cell_type": "markdown",
   "metadata": {},
   "source": [
    "### Tipos de situação de candidaturas diferentes por ano\n",
    "\n",
    "``` mysql\n",
    "    Select \n",
    "        ANO_ELEICAO,\n",
    "        COD_SITUACAO_CANDIDATURA,\n",
    "        DES_SITUACAO_CANDIDATURA, \n",
    "        count(*) as QTD \n",
    "    from detalhe_candidato_1998_2012 \n",
    "    group by ANO_ELEICAO,COD_SITUACAO_CANDIDATURA,DES_SITUACAO_CANDIDATURA \n",
    "    order by ANO_ELEICAO,COD_SITUACAO_CANDIDATURA;\n",
    "```\n",
    "\n",
    "####  Resultado por ano\n",
    "\n",
    "<table>\n",
    "<thead>\n",
    "<tr><th>ANO_ELEICAO</th><th>COD_SITUACAO_CANDIDATURA</th><th>DES_SITUACAO_CANDIDATURA</th><th>QTD</th></tr>\n",
    "</thead>\n",
    "<tbody>\n",
    "<tr><td>1998</td><td>10</td><td>CASSADO</td><td>1</td></tr>\n",
    "<tr><td>1998</td><td>2</td><td>DEFERIDO</td><td>14773</td></tr>\n",
    "<tr><td>1998</td><td>3</td><td>INDEFERIDO</td><td>119</td></tr>\n",
    "<tr><td>1998</td><td>4</td><td>SUB-J�DICE</td><td>67</td></tr>\n",
    "<tr><td>1998</td><td>5</td><td>CANCELAMENTO DO PEDIDO</td><td>15</td></tr>\n",
    "<tr><td>1998</td><td>6</td><td>REN�NCIA</td><td>160</td></tr>\n",
    "<tr><td>1998</td><td>7</td><td>FALECIDO</td><td>11</td></tr>\n",
    "<tr><td>1998</td><td>8</td><td>HOMOLOGA��O DE DESIST�NCIA</td><td>30</td></tr>\n",
    "<tr><td>1998</td><td>9</td><td>N�O CONHECIMENTO DO PEDIDO</td><td>2</td></tr>\n",
    "<tr><td>2000</td><td>NULL</td><td>NULL</td><td>8</td></tr>\n",
    "<tr><td>2000</td><td>1</td><td>PENDENTE</td><td>394</td></tr>\n",
    "<tr><td>2000</td><td>10</td><td>CASSA��O DO REGISTRO</td><td>88</td></tr>\n",
    "<tr><td>2000</td><td>11</td><td>IMPUGNA��O DE CANDIDATURA</td><td>16</td></tr>\n",
    "<tr><td>2000</td><td>2</td><td>DEFERIDO</td><td>1553838</td></tr>\n",
    "<tr><td>2000</td><td>3</td><td>INDEFERIDO</td><td>28426</td></tr>\n",
    "<tr><td>2000</td><td>4</td><td>SUB JUDICE</td><td>11560</td></tr>\n",
    "<tr><td>2000</td><td>4</td><td>SUB J�DICE</td><td>1004</td></tr>\n",
    "<tr><td>2000</td><td>5</td><td>CANCELAMENTO</td><td>2028</td></tr>\n",
    "<tr><td>2000</td><td>6</td><td>HOMOLOGA��O DE REN�NCIA</td><td>30816</td></tr>\n",
    "<tr><td>2000</td><td>7</td><td>FALECIDO</td><td>742</td></tr>\n",
    "<tr><td>2000</td><td>8</td><td>INDEFERIDO POR IMPUGNA��O</td><td>3654</td></tr>\n",
    "<tr><td>2000</td><td>9</td><td>N�O CONHECIMENTO DO PEDIDO</td><td>174</td></tr>\n",
    "<tr><td>2000</td><td>PARTIDO PROGRESSISTA BRASILEIRO</td><td>2</td></tr>\n",
    "<tr><td>2002</td><td>NULL</td><td>NULL</td><td>1</td></tr>\n",
    "<tr><td>2002</td><td>13</td><td>N�O CONHECIMENTO DO PEDIDO</td><td>22</td></tr>\n",
    "<tr><td>2002</td><td>14</td><td>INDEFERIDO</td><td>1464</td></tr>\n",
    "<tr><td>2002</td><td>2</td><td>DEFERIDO</td><td>17208</td></tr>\n",
    "<tr><td>2002</td><td>4</td><td>SUB JUDICE</td><td>146</td></tr>\n",
    "<tr><td>2002</td><td>5</td><td>CANCELADO</td><td>38</td></tr>\n",
    "<tr><td>2002</td><td>6</td><td>REN�NCIA</td><td>1011</td></tr>\n",
    "<tr><td>2002</td><td>7</td><td>FALECIMENTO</td><td>8</td></tr>\n",
    "<tr><td>2002</td><td>9</td><td>INELEG�VEL</td><td>3</td></tr>\n",
    "<tr><td>2004</td><td>10</td><td>CASSADO</td><td>15</td></tr>\n",
    "<tr><td>2004</td><td>13</td><td>N�O CONHECIMENTO DO PEDIDO</td><td>110</td></tr>\n",
    "<tr><td>2004</td><td>14</td><td>INDEFERIDO</td><td>9810</td></tr>\n",
    "<tr><td>2004</td><td>2</td><td>DEFERIDO</td><td>375390</td></tr>\n",
    "<tr><td>2004</td><td>4</td><td>SUB JUDICE</td><td>2684</td></tr>\n",
    "<tr><td>2004</td><td>5</td><td>CANCELADO</td><td>1782</td></tr>\n",
    "<tr><td>2004</td><td>6</td><td>REN�NCIA</td><td>11516</td></tr>\n",
    "<tr><td>2004</td><td>7</td><td>FALECIMENTO</td><td>159</td></tr>\n",
    "<tr><td>2004</td><td>9</td><td>INELEG�VEL</td><td>323</td></tr>\n",
    "<tr><td>2006</td><td>10</td><td>CASSADO</td><td>7</td></tr>\n",
    "<tr><td>2006</td><td>13</td><td>N�O CONHECIMENTO DO PEDIDO</td><td>7</td></tr>\n",
    "<tr><td>2006</td><td>14</td><td>INDEFERIDO</td><td>1570</td></tr>\n",
    "<tr><td>2006</td><td>16</td><td>DEFERIDO COM RECURSO</td><td>27</td></tr>\n",
    "<tr><td>2006</td><td>2</td><td>DEFERIDO</td><td>18078</td></tr>\n",
    "<tr><td>2006</td><td>4</td><td>INDEFERIDO COM RECURSO</td><td>39</td></tr>\n",
    "<tr><td>2006</td><td>5</td><td>CANCELADO</td><td>22</td></tr>\n",
    "<tr><td>2006</td><td>6</td><td>REN�NCIA</td><td>1030</td></tr>\n",
    "<tr><td>2006</td><td>7</td><td>FALECIDO</td><td>10</td></tr>\n",
    "<tr><td>2008</td><td>NULL</td><td>NULL</td><td>11</td></tr>\n",
    "<tr><td>2008</td><td>10</td><td>CASSADO</td><td>69</td></tr>\n",
    "<tr><td>2008</td><td>11</td><td>IMPUGNADO</td><td>4</td></tr>\n",
    "<tr><td>2008</td><td>13</td><td>N�O CONHECIMENTO DO PEDIDO</td><td>125</td></tr>\n",
    "<tr><td>2008</td><td>14</td><td>INDEFERIDO</td><td>15262</td></tr>\n",
    "<tr><td>2008</td><td>16</td><td>DEFERIDO COM RECURSO</td><td>1129</td></tr>\n",
    "<tr><td>2008</td><td>17</td><td>SUBSTITUTO MAJORIT�RIO PENDENTE DE JULGAMENTO</td><td>119</td></tr>\n",
    "<tr><td>2008</td><td>2</td><td>DEFERIDO</td><td>354952</td></tr>\n",
    "<tr><td>2008</td><td>4</td><td>INDEFERIDO COM RECURSO</td><td>1287</td></tr>\n",
    "<tr><td>2008</td><td>5</td><td>CANCELADO</td><td>846</td></tr>\n",
    "<tr><td>2008</td><td>6</td><td>REN�NCIA</td><td>10317</td></tr>\n",
    "<tr><td>2008</td><td>7</td><td>FALECIDO</td><td>185</td></tr>\n",
    "<tr><td>2008</td><td>8</td><td>AGUARDANDO JULGAMENTO</td><td>59</td></tr>\n",
    "<tr><td>2008</td><td>9</td><td>INELEG�VEL</td><td>167</td></tr>\n",
    "<tr><td>2010</td><td>NULL</td><td>NULL</td><td>1</td></tr>\n",
    "<tr><td>2010</td><td>10</td><td>CASSADO</td><td>2</td></tr>\n",
    "<tr><td>2010</td><td>13</td><td>N�O CONHECIMENTO DO PEDIDO</td><td>13</td></tr>\n",
    "<tr><td>2010</td><td>14</td><td>INDEFERIDO</td><td>2878</td></tr>\n",
    "<tr><td>2010</td><td>16</td><td>DEFERIDO COM RECURSO</td><td>41</td></tr>\n",
    "<tr><td>2010</td><td>17</td><td>SUBSTITUTO MAJORIT�RIO PENDENTE DE JULGAMENTO</td><td>1</td></tr>\n",
    "<tr><td>2010</td><td>18</td><td>CASSADO COM RECURSO</td><td>1</td></tr>\n",
    "<tr><td>2010</td><td>2</td><td>DEFERIDO</td><td>18459</td></tr>\n",
    "<tr><td>2010</td><td>4</td><td>INDEFERIDO COM RECURSO</td><td>92</td></tr>\n",
    "<tr><td>2010</td><td>5</td><td>CANCELADO</td><td>117</td></tr>\n",
    "<tr><td>2010</td><td>6</td><td>REN�NCIA</td><td>968</td></tr>\n",
    "<tr><td>2010</td><td>7</td><td>FALECIDO</td><td>4</td></tr>\n",
    "<tr><td>2012</td><td>10</td><td>CASSADO</td><td>140</td></tr>\n",
    "<tr><td>2012</td><td>13</td><td>N�O CONHECIMENTO DO PEDIDO</td><td>409</td></tr>\n",
    "<tr><td>2012</td><td>14</td><td>INDEFERIDO</td><td>22404</td></tr>\n",
    "<tr><td>2012</td><td>16</td><td>DEFERIDO COM RECURSO</td><td>1526</td></tr>\n",
    "<tr><td>2012</td><td>17</td><td>SUBSTITUTO PENDENTE DE JULGAMENTO</td><td>107</td></tr>\n",
    "<tr><td>2012</td><td>18</td><td>CASSADO COM RECURSO</td><td>112</td></tr>\n",
    "<tr><td>2012</td><td>2</td><td>DEFERIDO</td><td>442746</td></tr>\n",
    "<tr><td>2012</td><td>4</td><td>INDEFERIDO COM RECURSO</td><td>1606</td></tr>\n",
    "<tr><td>2012</td><td>5</td><td>CANCELADO</td><td>568</td></tr>\n",
    "<tr><td>2012</td><td>6</td><td>REN�NCIA</td><td>13965</td></tr>\n",
    "<tr><td>2012</td><td>7</td><td>FALECIDO</td><td>209</td></tr>\n",
    "<tr><td>2012</td><td>8</td><td>AGUARDANDO JULGAMENTO</td><td>33</td></tr>\n",
    "</tbody></table>"
   ]
  },
  {
   "cell_type": "markdown",
   "metadata": {},
   "source": [
    "## Verificação de Anomalias\n",
    "\n",
    "* Verificação da anomalia de candidatos com a mesma chave ANO_ELEICAO, NUM_TURNO,SIGLA_UE, NUMERO_CANDIDATO,CODIGO_CARGO\n",
    "\n",
    "``` mysql\n",
    "Select d.ANO_ELEICAO,d.NUM_TURNO, count(*) from (\n",
    "    Select \n",
    "        ANO_ELEICAO,\n",
    "        NUM_TURNO,\n",
    "        SIGLA_UE, \n",
    "        NUMERO_CANDIDATO,\n",
    "        CODIGO_CARGO,\n",
    "        count(*) as QTD_DUPLICADOS \n",
    "    from detalhe_candidato_1998_2012 \n",
    "    group by ANO_ELEICAO,NUM_TURNO,SIGLA_UE, NUMERO_CANDIDATO,CODIGO_CARGO) as d\n",
    "where d.QTD_DUPLICADOS>1 group by d.ANO_ELEICAO,d.NUM_TURNO order by d.ANO_ELEICAO,d.NUM_TURNO;\n",
    "```\n",
    "\n",
    "\n",
    "### Resultado\n",
    "\n",
    "<table>\n",
    "<tr>\n",
    "<th>ANO_ELEICAO</th>\n",
    "<th>NUM_TURNO</th>\n",
    "<th>QTD_DUPLICADOS</th>\n",
    "<tbody>\n",
    "<tr><td>1998</td><td>\t1</td><td>\t132</td></tr>\n",
    "<tr><td>2000</td><td>\t1</td><td>\t278468</td></tr>\n",
    "<tr><td>2000</td><td>\t2</td><td>\t278468</td></tr>\n",
    "<tr><td>2002</td><td>\t1</td><td>\t182</td></tr>\n",
    "<tr><td>2002</td><td>\t2</td><td>\t1</td></tr>\n",
    "<tr><td>2004</td><td>\t1</td><td>\t1743</td></tr>\n",
    "<tr><td>2006</td><td>\t1</td><td>\t179</td></tr>\n",
    "<tr><td>2008</td><td>\t1</td><td>\t2417</td></tr>\n",
    "<tr><td>2008</td><td>\t2</td><td>\t2</td></tr>\n",
    "<tr><td>2010</td><td>\t1</td><td>\t288</td></tr>\n",
    "<tr><td>2012</td><td>\t1</td><td>\t4121</td></tr>\n",
    "</tbody>\n",
    "</table>\n"
   ]
  },
  {
   "cell_type": "markdown",
   "metadata": {},
   "source": [
    "\n",
    " SELECT ANO_ELEICAO\n"
   ]
  },
  {
   "cell_type": "code",
   "execution_count": null,
   "metadata": {
    "collapsed": true
   },
   "outputs": [],
   "source": []
  },
  {
   "cell_type": "code",
   "execution_count": null,
   "metadata": {
    "collapsed": true
   },
   "outputs": [],
   "source": []
  },
  {
   "cell_type": "code",
   "execution_count": null,
   "metadata": {
    "collapsed": true
   },
   "outputs": [],
   "source": []
  },
  {
   "cell_type": "code",
   "execution_count": null,
   "metadata": {
    "collapsed": true
   },
   "outputs": [],
   "source": []
  },
  {
   "cell_type": "code",
   "execution_count": null,
   "metadata": {
    "collapsed": true
   },
   "outputs": [],
   "source": []
  },
  {
   "cell_type": "code",
   "execution_count": null,
   "metadata": {
    "collapsed": true
   },
   "outputs": [],
   "source": []
  },
  {
   "cell_type": "code",
   "execution_count": null,
   "metadata": {
    "collapsed": true
   },
   "outputs": [],
   "source": []
  },
  {
   "cell_type": "code",
   "execution_count": null,
   "metadata": {
    "collapsed": true
   },
   "outputs": [],
   "source": []
  },
  {
   "cell_type": "code",
   "execution_count": null,
   "metadata": {
    "collapsed": true
   },
   "outputs": [],
   "source": []
  },
  {
   "cell_type": "code",
   "execution_count": null,
   "metadata": {
    "collapsed": true
   },
   "outputs": [],
   "source": []
  },
  {
   "cell_type": "code",
   "execution_count": null,
   "metadata": {
    "collapsed": true
   },
   "outputs": [],
   "source": []
  },
  {
   "cell_type": "code",
   "execution_count": null,
   "metadata": {
    "collapsed": true
   },
   "outputs": [],
   "source": []
  }
 ],
 "metadata": {
  "kernelspec": {
   "display_name": "Python 2",
   "language": "python",
   "name": "python2"
  },
  "language_info": {
   "codemirror_mode": {
    "name": "ipython",
    "version": 2
   },
   "file_extension": ".py",
   "mimetype": "text/x-python",
   "name": "python",
   "nbconvert_exporter": "python",
   "pygments_lexer": "ipython2",
   "version": "2.7.13"
  }
 },
 "nbformat": 4,
 "nbformat_minor": 2
}
